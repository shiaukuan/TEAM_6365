{
 "cells": [
  {
   "cell_type": "code",
   "execution_count": 1,
   "id": "03dc1106-03f5-4c79-916c-cb418d006a62",
   "metadata": {},
   "outputs": [],
   "source": [
    "question_path=\"競賽資料集/dataset/preliminary/questions_example.json\"\n",
    "source_path=\"競賽資料集/reference\""
   ]
  },
  {
   "cell_type": "code",
   "execution_count": null,
   "id": "55e24a6a-40bc-41d7-bced-7ca7623da09b",
   "metadata": {},
   "outputs": [],
   "source": []
  },
  {
   "cell_type": "code",
   "execution_count": 3,
   "id": "d2df4ec3-d249-437d-91fa-7461caa3690d",
   "metadata": {},
   "outputs": [],
   "source": [
    "import os\n",
    "import json\n",
    "import argparse\n",
    "\n",
    "from tqdm import tqdm\n",
    "import pdfplumber  # 用於從PDF文件中提取文字的工具\n",
    "\n",
    "\n",
    "# 載入參考資料，返回一個字典，key為檔案名稱，value為PDF檔內容的文本\n",
    "def load_data(source_path):\n",
    "    masked_file_ls = os.listdir(source_path)  # 獲取資料夾中的檔案列表\n",
    "    corpus_dict = {int(file.replace('.pdf', '')): read_pdf(os.path.join(source_path, file)) for file in tqdm(masked_file_ls) if file.endswith('.pdf') }  # 讀取每個PDF文件的文本，並以檔案名作為鍵，文本內容作為值存入字典\n",
    "    return corpus_dict\n",
    "\n",
    "\n",
    "# 讀取單個PDF文件並返回其文本內容\n",
    "def read_pdf(pdf_loc, page_infos: list = None):\n",
    "    pdf = pdfplumber.open(pdf_loc)  # 打開指定的PDF文件\n",
    "\n",
    "    # TODO: 可自行用其他方法讀入資料，或是對pdf中多模態資料（表格,圖片等）進行處理\n",
    "\n",
    "    # 如果指定了頁面範圍，則只提取該範圍的頁面，否則提取所有頁面\n",
    "    pages = pdf.pages[page_infos[0]:page_infos[1]] if page_infos else pdf.pages\n",
    "    pdf_text = ''\n",
    "    for _, page in enumerate(pages):  # 迴圈遍歷每一頁\n",
    "        text = page.extract_text()  # 提取頁面的文本內容\n",
    "        if text:\n",
    "            pdf_text += text\n",
    "    pdf.close()  # 關閉PDF文件\n",
    "\n",
    "    return pdf_text  # 返回萃取出的文本\n"
   ]
  },
  {
   "cell_type": "code",
   "execution_count": 4,
   "id": "3d48789e-4d27-424c-9d75-34408abf544b",
   "metadata": {},
   "outputs": [
    {
     "name": "stderr",
     "output_type": "stream",
     "text": [
      "100%|███████████████████████████████████████████████████████████████████████████████████████████████████████████████████████| 1035/1035 [04:06<00:00,  4.21it/s]"
     ]
    },
    {
     "name": "stdout",
     "output_type": "stream",
     "text": [
      "CPU times: user 4min 5s, sys: 271 ms, total: 4min 6s\n",
      "Wall time: 4min 6s\n"
     ]
    },
    {
     "name": "stderr",
     "output_type": "stream",
     "text": [
      "\n"
     ]
    }
   ],
   "source": [
    "%%time\n",
    "source_path_finance = os.path.join(source_path, 'finance')  # 設定參考資料路徑\n",
    "corpus_dict_finance = load_data(source_path_finance)"
   ]
  },
  {
   "cell_type": "code",
   "execution_count": 5,
   "id": "1645bc40-5b29-42c3-b9d1-c43bf70eeb9c",
   "metadata": {},
   "outputs": [],
   "source": [
    "import pickle\n",
    "with open(\"corpus_dict_finance.pkl\", \"wb\") as f:\n",
    "    pickle.dump(corpus_dict_finance, f)"
   ]
  },
  {
   "cell_type": "markdown",
   "id": "3919c6bc-b13d-407d-bba8-e3ca75017ffb",
   "metadata": {},
   "source": [
    "# 選轉圖片"
   ]
  },
  {
   "cell_type": "code",
   "execution_count": 14,
   "id": "c9a3e909-d5bf-4aaf-a20c-59a58e983a5a",
   "metadata": {},
   "outputs": [],
   "source": [
    "# !pip install pymupdf"
   ]
  },
  {
   "cell_type": "code",
   "execution_count": 9,
   "id": "bff151c7-88d5-4f87-8655-0c677b1f37b5",
   "metadata": {},
   "outputs": [],
   "source": [
    "import fitz  # PyMuPDF\n",
    "\n",
    "# 開啟 PDF 文件\n",
    "def rotation_pdf(angle,input_pdf_path,output_pdf_path):\n",
    "    pdf_document = fitz.open(input_pdf_path)\n",
    "    \n",
    "    # 旋轉每一頁\n",
    "    for page_number in range(len(pdf_document)):\n",
    "        page = pdf_document[page_number]\n",
    "        page.set_rotation(angle)# 將頁面旋轉 90 度\n",
    "    \n",
    "    # 儲存旋轉後的 PDF\n",
    "    pdf_document.save(output_pdf_path)\n",
    "    pdf_document.close()"
   ]
  },
  {
   "cell_type": "code",
   "execution_count": 10,
   "id": "5fc16db1-6d58-435c-b3db-3607b4e433b7",
   "metadata": {},
   "outputs": [],
   "source": [
    "# 開啟 PDF\n",
    "input_pdf_path = \"競賽資料集/reference/finance/979.pdf\"\n",
    "output_pdf_path = \"979.pdf\"\n",
    "rotation_pdf(270,input_pdf_path,output_pdf_path)\n",
    "\n",
    "input_pdf_path = \"競賽資料集/reference/finance/360.pdf\"\n",
    "output_pdf_path = \"360.pdf\"\n",
    "rotation_pdf(360,input_pdf_path,output_pdf_path)\n",
    "\n",
    "input_pdf_path = \"競賽資料集/reference/finance/753.pdf\"\n",
    "output_pdf_path = \"753.pdf\"\n",
    "rotation_pdf(90,input_pdf_path,output_pdf_path)\n",
    "\n",
    "input_pdf_path = \"競賽資料集/reference/finance/652.pdf\"\n",
    "output_pdf_path = \"652.pdf\"\n",
    "rotation_pdf(90,input_pdf_path,output_pdf_path)"
   ]
  },
  {
   "cell_type": "code",
   "execution_count": 11,
   "id": "77cf5eba-1f7f-4b08-9439-f1e125efe556",
   "metadata": {},
   "outputs": [],
   "source": [
    "!cp 979.pdf 競賽資料集/reference/finance/979.pdf\n",
    "!cp 753.pdf 競賽資料集/reference/finance/753.pdf\n",
    "!cp 360.pdf 競賽資料集/reference/finance/360.pdf\n",
    "!cp 652.pdf 競賽資料集/reference/finance/652.pdf"
   ]
  },
  {
   "cell_type": "code",
   "execution_count": null,
   "id": "c0c29ae9-8fb8-4526-aa34-c7b3d39f3814",
   "metadata": {},
   "outputs": [],
   "source": []
  },
  {
   "cell_type": "code",
   "execution_count": 13,
   "id": "9e9b954c-8c97-44cb-bc5d-d67e28d43d4a",
   "metadata": {},
   "outputs": [],
   "source": [
    "# !pip install pytesseract\n",
    "# apt update\n",
    "# apt install -y tesseract-ocr\n",
    "# apt install -y tesseract-ocr-chi-tra\n",
    "# apt install poppler-utils\n",
    "# !pip install pdf2image"
   ]
  },
  {
   "cell_type": "code",
   "execution_count": 24,
   "id": "c7a36487-133d-48d9-bc18-be5c0e812194",
   "metadata": {},
   "outputs": [
    {
     "name": "stdout",
     "output_type": "stream",
     "text": [
      "CPU times: user 3min 30s, sys: 15.6 s, total: 3min 46s\n",
      "Wall time: 11min 53s\n"
     ]
    }
   ],
   "source": [
    "%%time\n",
    "from pdf2image import convert_from_path\n",
    "import pytesseract\n",
    "from PIL import Image\n",
    "import numpy as np\n",
    "\n",
    "\n",
    "# 自定義 Tesseract 配置\n",
    "custom_config = r'--oem 3 --psm 6'\n",
    "\n",
    "# 設定紅色範圍\n",
    "def remove_red_stamp(image):\n",
    "    # 將圖片轉為 numpy 陣列\n",
    "    image_np = np.array(image)\n",
    "    \n",
    "    # 定義紅色的 HSV 範圍，根據需要調整範圍\n",
    "    lower_red = np.array([100, 0, 0])  # 紅色範圍的下限\n",
    "    upper_red = np.array([255, 150, 150])  # 紅色範圍的上限\n",
    "\n",
    "    # 創建遮罩，篩選出紅色範圍內的像素\n",
    "    red_mask = np.all((image_np >= lower_red) & (image_np <= upper_red), axis=-1)\n",
    "\n",
    "    # 將紅色像素轉為白色\n",
    "    image_np[red_mask] = [255, 255, 255]\n",
    "\n",
    "    # 將 numpy 陣列轉回 PIL 圖片\n",
    "    return Image.fromarray(image_np)\n",
    "\n",
    "\n",
    "error_pdf= []\n",
    "corpus_dict_finance_img={}\n",
    "for k in corpus_dict_finance.keys():\n",
    "    corpus=corpus_dict_finance[k]\n",
    "    if len(corpus)<100:\n",
    "        error_pdf.append([k,corpus])\n",
    "        \n",
    "        pdf_path = source_path+f'/finance/{k}.pdf'\n",
    "        images = convert_from_path(pdf_path, dpi=600)\n",
    "        \n",
    "        # 處理每一頁\n",
    "        all_text=''\n",
    "        for i, image in enumerate(images):\n",
    "            # 移除紅色印章\n",
    "            image_no_stamp = remove_red_stamp(image)\n",
    "            # OCR 文字識別\n",
    "            text = pytesseract.image_to_string(image_no_stamp, config=custom_config, lang='chi_tra')\n",
    "            all_text+=text\n",
    "        \n",
    "        corpus_dict_finance_img[k]=all_text.replace('  ',' ').replace('  ',' ').replace('  ',' ')\n",
    "        # break"
   ]
  },
  {
   "cell_type": "code",
   "execution_count": 25,
   "id": "00cfc5ed-3ebf-4db7-8e51-c8fe6e580f59",
   "metadata": {},
   "outputs": [],
   "source": [
    "with open('corpus_dict_finance_img.pkl', 'wb') as f:\n",
    "    pickle.dump(corpus_dict_finance_img, f)"
   ]
  },
  {
   "cell_type": "code",
   "execution_count": null,
   "id": "b2ec2696-941b-4310-a0b7-f8fabeafd09c",
   "metadata": {},
   "outputs": [],
   "source": []
  },
  {
   "cell_type": "code",
   "execution_count": 26,
   "id": "0213cd38-09a9-4042-8674-03d76cfd5a08",
   "metadata": {},
   "outputs": [
    {
     "name": "stderr",
     "output_type": "stream",
     "text": [
      "100%|█████████████████████████████████████████████████████████████████████████████████████████████████████████████████████████| 643/643 [00:37<00:00, 17.31it/s]"
     ]
    },
    {
     "name": "stdout",
     "output_type": "stream",
     "text": [
      "CPU times: user 37.1 s, sys: 65.2 ms, total: 37.2 s\n",
      "Wall time: 37.2 s\n"
     ]
    },
    {
     "name": "stderr",
     "output_type": "stream",
     "text": [
      "\n"
     ]
    }
   ],
   "source": [
    "%%time\n",
    "source_path_insurance = os.path.join(source_path, 'insurance')  # 設定參考資料路徑\n",
    "corpus_dict_insurance = load_data(source_path_insurance)"
   ]
  },
  {
   "cell_type": "code",
   "execution_count": 32,
   "id": "2e63a802-473d-4bad-9630-bb19d2fbb89d",
   "metadata": {},
   "outputs": [],
   "source": [
    "tmp=[]\n",
    "for k in corpus_dict_insurance.keys():\n",
    "    tmp.append(len(corpus_dict_insurance[k]))\n",
    "    "
   ]
  },
  {
   "cell_type": "code",
   "execution_count": 33,
   "id": "492df5a6-9b82-4b8e-8d8e-da375fd90af5",
   "metadata": {},
   "outputs": [],
   "source": [
    "import pandas as pd"
   ]
  },
  {
   "cell_type": "code",
   "execution_count": 35,
   "id": "27e39239-763b-4c2b-88f7-1e0d6203f4aa",
   "metadata": {},
   "outputs": [],
   "source": [
    "tmp=pd.DataFrame(tmp)"
   ]
  },
  {
   "cell_type": "code",
   "execution_count": 40,
   "id": "7c4ad745-5ebe-401d-94f4-5dedc7693fed",
   "metadata": {},
   "outputs": [
    {
     "data": {
      "text/html": [
       "<div>\n",
       "<style scoped>\n",
       "    .dataframe tbody tr th:only-of-type {\n",
       "        vertical-align: middle;\n",
       "    }\n",
       "\n",
       "    .dataframe tbody tr th {\n",
       "        vertical-align: top;\n",
       "    }\n",
       "\n",
       "    .dataframe thead th {\n",
       "        text-align: right;\n",
       "    }\n",
       "</style>\n",
       "<table border=\"1\" class=\"dataframe\">\n",
       "  <thead>\n",
       "    <tr style=\"text-align: right;\">\n",
       "      <th></th>\n",
       "      <th>0</th>\n",
       "    </tr>\n",
       "  </thead>\n",
       "  <tbody>\n",
       "    <tr>\n",
       "      <th>251</th>\n",
       "      <td>150</td>\n",
       "    </tr>\n",
       "    <tr>\n",
       "      <th>263</th>\n",
       "      <td>227</td>\n",
       "    </tr>\n",
       "    <tr>\n",
       "      <th>579</th>\n",
       "      <td>268</td>\n",
       "    </tr>\n",
       "    <tr>\n",
       "      <th>522</th>\n",
       "      <td>273</td>\n",
       "    </tr>\n",
       "    <tr>\n",
       "      <th>442</th>\n",
       "      <td>309</td>\n",
       "    </tr>\n",
       "    <tr>\n",
       "      <th>...</th>\n",
       "      <td>...</td>\n",
       "    </tr>\n",
       "    <tr>\n",
       "      <th>340</th>\n",
       "      <td>4757</td>\n",
       "    </tr>\n",
       "    <tr>\n",
       "      <th>636</th>\n",
       "      <td>4874</td>\n",
       "    </tr>\n",
       "    <tr>\n",
       "      <th>458</th>\n",
       "      <td>4992</td>\n",
       "    </tr>\n",
       "    <tr>\n",
       "      <th>525</th>\n",
       "      <td>5391</td>\n",
       "    </tr>\n",
       "    <tr>\n",
       "      <th>46</th>\n",
       "      <td>5519</td>\n",
       "    </tr>\n",
       "  </tbody>\n",
       "</table>\n",
       "<p>643 rows × 1 columns</p>\n",
       "</div>"
      ],
      "text/plain": [
       "        0\n",
       "251   150\n",
       "263   227\n",
       "579   268\n",
       "522   273\n",
       "442   309\n",
       "..    ...\n",
       "340  4757\n",
       "636  4874\n",
       "458  4992\n",
       "525  5391\n",
       "46   5519\n",
       "\n",
       "[643 rows x 1 columns]"
      ]
     },
     "execution_count": 40,
     "metadata": {},
     "output_type": "execute_result"
    }
   ],
   "source": [
    "tmp.sort_values(0)"
   ]
  },
  {
   "cell_type": "code",
   "execution_count": null,
   "id": "417a1f96-cd17-400a-8981-1ff18fee3e2a",
   "metadata": {},
   "outputs": [],
   "source": []
  },
  {
   "cell_type": "code",
   "execution_count": null,
   "id": "e6d19495-6ded-442d-bf0c-3b6c301da5a4",
   "metadata": {},
   "outputs": [],
   "source": []
  },
  {
   "cell_type": "code",
   "execution_count": 27,
   "id": "91b83197-5ff6-42d3-8103-e94acc1a439f",
   "metadata": {},
   "outputs": [],
   "source": [
    "with open('corpus_dict_insurance.pkl', 'wb') as f:\n",
    "    pickle.dump(corpus_dict_insurance, f)"
   ]
  },
  {
   "cell_type": "code",
   "execution_count": 28,
   "id": "726acdf4-0956-4c22-87a4-2302a1501172",
   "metadata": {},
   "outputs": [
    {
     "data": {
      "text/plain": [
       "'U盘'"
      ]
     },
     "execution_count": 28,
     "metadata": {},
     "output_type": "execute_result"
    }
   ],
   "source": [
    "import opencc\n",
    "t2s = opencc.OpenCC('tw2sp.json')\n",
    "t2s.convert('隨身碟')"
   ]
  },
  {
   "cell_type": "markdown",
   "id": "3cd766b4-dded-4df6-ba38-d0cd1a75c900",
   "metadata": {},
   "source": [
    "    失敗的 finance 生成資料\n",
    "            prompt=f\"\"\"\n",
    "    對下面文件，提取以下關鍵:\n",
    "    公司名稱: 公司全名\n",
    "    報告期間: 西元年\n",
    "    財務報表類型或文件: 如損益表、資產負債表、現金流量表、合併權益變動表、附註等\n",
    "    關鍵字: 詳細列出盡量列出越多資訊不要遺漏\n",
    "    \n",
    "    文件:\n",
    "    {corpus}\n",
    "            \"\"\""
   ]
  },
  {
   "cell_type": "code",
   "execution_count": null,
   "id": "2ebf8e6c-a798-4394-a2ec-bc877625034c",
   "metadata": {},
   "outputs": [],
   "source": []
  },
  {
   "cell_type": "markdown",
   "id": "aebea3f9-d3d4-4548-9f88-27a56665ab71",
   "metadata": {},
   "source": [
    "# 要跑 13h 44min 6s"
   ]
  },
  {
   "cell_type": "code",
   "execution_count": null,
   "id": "4ec8c80d-4336-4007-bbe9-ab612c11139d",
   "metadata": {},
   "outputs": [],
   "source": [
    "from accelerate import init_empty_weights, load_checkpoint_and_dispatch\n",
    "from transformers import AutoModelForCausalLM, AutoTokenizer, BitsAndBytesConfig\n",
    "import torch\n",
    "\n",
    "model_name = \"Qwen/Qwen2.5-14B-Instruct\"\n",
    "\n",
    "bnb_config = BitsAndBytesConfig(\n",
    "    load_in_8bit=True,          \n",
    "    llm_int8_threshold=6.0,\n",
    "    llm_int8_has_fp16_weight=False\n",
    ")\n",
    "\n",
    "# Initialize weights\n",
    "with init_empty_weights():\n",
    "    model = AutoModelForCausalLM.from_pretrained(\n",
    "        model_name,\n",
    "        quantization_config=bnb_config,\n",
    "        torch_dtype=\"auto\"\n",
    "    )\n",
    "\n",
    "model = torch.compile(model)\n",
    "\n",
    "tokenizer = AutoTokenizer.from_pretrained(model_name)"
   ]
  },
  {
   "cell_type": "code",
   "execution_count": null,
   "id": "3a648452-4a42-4841-8f91-c9c585d3b25b",
   "metadata": {},
   "outputs": [],
   "source": [
    "%%time\n",
    "from collections import defaultdict\n",
    "import re\n",
    "llm_ans=defaultdict(list)\n",
    "\n",
    "for path in glob.glob('競賽資料集/reference/insurance/*'):\n",
    "    print(path)\n",
    "    try:\n",
    "        text=read_pdf(path)\n",
    "    \n",
    "        sections = re.split(r\"\\n(?=第.\\S+.條\\s)\", text)\n",
    "    \n",
    "        # 打印分段結果\n",
    "        for chunk in sections:\n",
    "            chunk=re.sub(r\"\\n(【.*】)\",\"\",chunk).strip()\n",
    "            # print(chunk)\n",
    "            if len(chunk)>=100:\n",
    "                # print(chunk[:20])\n",
    "                prompt = f\"\"\"\n",
    "    請根據以下段落產生多個相關問題，問題需包含細節並有助於釐清條文中的條款要求及細項規範。請以列表格式輸出問題，確保 Python 程式能夠擷取為問題的列表。\n",
    "    \n",
    "    範例問題：[\"如果金融卡不見了，還可以使用刷臉提款嗎？\", \"掛失金融卡後需要做什麼才能繼續使用刷臉提款？\"]\n",
    "    \n",
    "    段落：{chunk}\n",
    "    \n",
    "    請以 [\"\", \"\", ...] 的格式輸出問題，盡量問越多問題，確保覆蓋所有重要細節與規定。\n",
    "    \"\"\"\n",
    "                messages = [\n",
    "                    {\"role\": \"user\", \"content\": prompt}\n",
    "                ]\n",
    "                text = tokenizer.apply_chat_template(\n",
    "                    messages,\n",
    "                    tokenize=False,\n",
    "                    add_generation_prompt=True\n",
    "                )\n",
    "                model_inputs = tokenizer([text], return_tensors=\"pt\").to(model.device)\n",
    "                \n",
    "                generated_ids = model.generate(\n",
    "                    **model_inputs,\n",
    "                    max_new_tokens=1024\n",
    "                )\n",
    "                generated_ids = [\n",
    "                    output_ids[len(input_ids):] for input_ids, output_ids in zip(model_inputs.input_ids, generated_ids)\n",
    "                ]\n",
    "                \n",
    "                response = tokenizer.batch_decode(generated_ids, skip_special_tokens=True)[0]\n",
    "                llm_ans[path].append([chunk,response])\n",
    "                # break\n",
    "                # print(\"=\" * 30)  # 分隔線\n",
    "    except:\n",
    "        continue\n",
    "    \n",
    "    # break\n",
    "\n",
    "import pickle\n",
    "with open('llm_ans_insurance.pkl', 'wb') as f:\n",
    "    pickle.dump(llm_ans, f)"
   ]
  },
  {
   "cell_type": "markdown",
   "id": "58373811-b9bf-482d-94e2-a4d0e91cac85",
   "metadata": {},
   "source": [
    "## 一樣程式再跑簡體問答\n",
    "                \n",
    "                messages = [\n",
    "                    {\"role\": \"user\", \"content\": t2s.convert(prompt)}\n",
    "                ]\n",
    "存 llm_s_ans_insurance.pkl"
   ]
  },
  {
   "cell_type": "code",
   "execution_count": null,
   "id": "76612746-77a9-47e3-b30e-0037e301883c",
   "metadata": {},
   "outputs": [],
   "source": []
  },
  {
   "cell_type": "code",
   "execution_count": null,
   "id": "5dec6963-019c-47c8-9c4d-31e9125d6a1f",
   "metadata": {},
   "outputs": [],
   "source": []
  }
 ],
 "metadata": {
  "kernelspec": {
   "display_name": "Python 3 (ipykernel)",
   "language": "python",
   "name": "python3"
  },
  "language_info": {
   "codemirror_mode": {
    "name": "ipython",
    "version": 3
   },
   "file_extension": ".py",
   "mimetype": "text/x-python",
   "name": "python",
   "nbconvert_exporter": "python",
   "pygments_lexer": "ipython3",
   "version": "3.12.7"
  }
 },
 "nbformat": 4,
 "nbformat_minor": 5
}
