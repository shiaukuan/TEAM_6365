{
 "cells": [
  {
   "cell_type": "code",
   "execution_count": 1,
   "id": "79b846a0-50ac-4e35-80a8-279867baed4a",
   "metadata": {},
   "outputs": [
    {
     "data": {
      "text/plain": [
       "'U盘'"
      ]
     },
     "execution_count": 1,
     "metadata": {},
     "output_type": "execute_result"
    }
   ],
   "source": [
    "import os\n",
    "import pickle\n",
    "\n",
    "import opencc\n",
    "t2s = opencc.OpenCC('tw2sp.json')\n",
    "t2s.convert('隨身碟')"
   ]
  },
  {
   "cell_type": "code",
   "execution_count": 2,
   "id": "2a68e11a-8671-452f-a63c-1abdc91914e2",
   "metadata": {},
   "outputs": [
    {
     "data": {
      "application/vnd.jupyter.widget-view+json": {
       "model_id": "18112436534f4f5bab42d65d04a3b53e",
       "version_major": 2,
       "version_minor": 0
      },
      "text/plain": [
       "tokenizer_config.json:   0%|          | 0.00/444 [00:00<?, ?B/s]"
      ]
     },
     "metadata": {},
     "output_type": "display_data"
    },
    {
     "data": {
      "application/vnd.jupyter.widget-view+json": {
       "model_id": "ae47a80c93de4cd49c0d277246675d6a",
       "version_major": 2,
       "version_minor": 0
      },
      "text/plain": [
       "sentencepiece.bpe.model:   0%|          | 0.00/5.07M [00:00<?, ?B/s]"
      ]
     },
     "metadata": {},
     "output_type": "display_data"
    },
    {
     "data": {
      "application/vnd.jupyter.widget-view+json": {
       "model_id": "9ab3ef03e94a4170af104c18b5b50047",
       "version_major": 2,
       "version_minor": 0
      },
      "text/plain": [
       "tokenizer.json:   0%|          | 0.00/17.1M [00:00<?, ?B/s]"
      ]
     },
     "metadata": {},
     "output_type": "display_data"
    },
    {
     "data": {
      "application/vnd.jupyter.widget-view+json": {
       "model_id": "63f269f91870431da498aaaf22ea4a3f",
       "version_major": 2,
       "version_minor": 0
      },
      "text/plain": [
       "special_tokens_map.json:   0%|          | 0.00/964 [00:00<?, ?B/s]"
      ]
     },
     "metadata": {},
     "output_type": "display_data"
    },
    {
     "data": {
      "application/vnd.jupyter.widget-view+json": {
       "model_id": "b358c5208c134b4389fd7908b216f5ca",
       "version_major": 2,
       "version_minor": 0
      },
      "text/plain": [
       "Fetching 30 files:   0%|          | 0/30 [00:00<?, ?it/s]"
      ]
     },
     "metadata": {},
     "output_type": "display_data"
    },
    {
     "data": {
      "application/vnd.jupyter.widget-view+json": {
       "model_id": "6e7bf1c1e68a4f9280dcef673d843615",
       "version_major": 2,
       "version_minor": 0
      },
      "text/plain": [
       "config_sentence_transformers.json:   0%|          | 0.00/123 [00:00<?, ?B/s]"
      ]
     },
     "metadata": {},
     "output_type": "display_data"
    },
    {
     "data": {
      "application/vnd.jupyter.widget-view+json": {
       "model_id": "e013f8af445d41f6bc32fd62841be0fe",
       "version_major": 2,
       "version_minor": 0
      },
      "text/plain": [
       "imgs/bm25.jpg:   0%|          | 0.00/132k [00:00<?, ?B/s]"
      ]
     },
     "metadata": {},
     "output_type": "display_data"
    },
    {
     "data": {
      "application/vnd.jupyter.widget-view+json": {
       "model_id": "3cfa4fd595ce49279199bbfbcefcd482",
       "version_major": 2,
       "version_minor": 0
      },
      "text/plain": [
       ".gitattributes:   0%|          | 0.00/1.63k [00:00<?, ?B/s]"
      ]
     },
     "metadata": {},
     "output_type": "display_data"
    },
    {
     "data": {
      "application/vnd.jupyter.widget-view+json": {
       "model_id": "a656374810054cbcb4bc5db0770ca980",
       "version_major": 2,
       "version_minor": 0
      },
      "text/plain": [
       "config.json:   0%|          | 0.00/687 [00:00<?, ?B/s]"
      ]
     },
     "metadata": {},
     "output_type": "display_data"
    },
    {
     "data": {
      "application/vnd.jupyter.widget-view+json": {
       "model_id": "af57e063f2ce4d3cbfbdf9e552e662c6",
       "version_major": 2,
       "version_minor": 0
      },
      "text/plain": [
       "colbert_linear.pt:   0%|          | 0.00/2.10M [00:00<?, ?B/s]"
      ]
     },
     "metadata": {},
     "output_type": "display_data"
    },
    {
     "data": {
      "application/vnd.jupyter.widget-view+json": {
       "model_id": "84fbaa97952549b6bc17095842cb5beb",
       "version_major": 2,
       "version_minor": 0
      },
      "text/plain": [
       "1_Pooling/config.json:   0%|          | 0.00/191 [00:00<?, ?B/s]"
      ]
     },
     "metadata": {},
     "output_type": "display_data"
    },
    {
     "data": {
      "application/vnd.jupyter.widget-view+json": {
       "model_id": "0acef351a76749079c4d5a23afb5005f",
       "version_major": 2,
       "version_minor": 0
      },
      "text/plain": [
       "imgs/miracl.jpg:   0%|          | 0.00/576k [00:00<?, ?B/s]"
      ]
     },
     "metadata": {},
     "output_type": "display_data"
    },
    {
     "data": {
      "application/vnd.jupyter.widget-view+json": {
       "model_id": "f4819c3188a04c87b7b0f5a66956d92e",
       "version_major": 2,
       "version_minor": 0
      },
      "text/plain": [
       "imgs/mkqa.jpg:   0%|          | 0.00/608k [00:00<?, ?B/s]"
      ]
     },
     "metadata": {},
     "output_type": "display_data"
    },
    {
     "data": {
      "application/vnd.jupyter.widget-view+json": {
       "model_id": "3b6904c4d09b463e812736b9d11988da",
       "version_major": 2,
       "version_minor": 0
      },
      "text/plain": [
       "imgs/long.jpg:   0%|          | 0.00/485k [00:00<?, ?B/s]"
      ]
     },
     "metadata": {},
     "output_type": "display_data"
    },
    {
     "data": {
      "application/vnd.jupyter.widget-view+json": {
       "model_id": "fe274df8ac7a443d977a1072f6dd2621",
       "version_major": 2,
       "version_minor": 0
      },
      "text/plain": [
       "imgs/nqa.jpg:   0%|          | 0.00/158k [00:00<?, ?B/s]"
      ]
     },
     "metadata": {},
     "output_type": "display_data"
    },
    {
     "data": {
      "application/vnd.jupyter.widget-view+json": {
       "model_id": "5ab2d85d2dd145098c4b6fc1ac4de6aa",
       "version_major": 2,
       "version_minor": 0
      },
      "text/plain": [
       "imgs/.DS_Store:   0%|          | 0.00/6.15k [00:00<?, ?B/s]"
      ]
     },
     "metadata": {},
     "output_type": "display_data"
    },
    {
     "data": {
      "application/vnd.jupyter.widget-view+json": {
       "model_id": "42f909623b504016b70f339871e171e3",
       "version_major": 2,
       "version_minor": 0
      },
      "text/plain": [
       "README.md:   0%|          | 0.00/15.8k [00:00<?, ?B/s]"
      ]
     },
     "metadata": {},
     "output_type": "display_data"
    },
    {
     "data": {
      "application/vnd.jupyter.widget-view+json": {
       "model_id": "87922d8d73554131a09134e6ccd808d7",
       "version_major": 2,
       "version_minor": 0
      },
      "text/plain": [
       "long.jpg:   0%|          | 0.00/127k [00:00<?, ?B/s]"
      ]
     },
     "metadata": {},
     "output_type": "display_data"
    },
    {
     "data": {
      "application/vnd.jupyter.widget-view+json": {
       "model_id": "f973449c173940068032529223824282",
       "version_major": 2,
       "version_minor": 0
      },
      "text/plain": [
       "imgs/others.webp:   0%|          | 0.00/21.0k [00:00<?, ?B/s]"
      ]
     },
     "metadata": {},
     "output_type": "display_data"
    },
    {
     "data": {
      "application/vnd.jupyter.widget-view+json": {
       "model_id": "7fda965f10a44fcb862f9c5c17a521bf",
       "version_major": 2,
       "version_minor": 0
      },
      "text/plain": [
       "modules.json:   0%|          | 0.00/349 [00:00<?, ?B/s]"
      ]
     },
     "metadata": {},
     "output_type": "display_data"
    },
    {
     "data": {
      "application/vnd.jupyter.widget-view+json": {
       "model_id": "665fa1a503434c74970b6c8dbd22c108",
       "version_major": 2,
       "version_minor": 0
      },
      "text/plain": [
       "model.onnx:   0%|          | 0.00/725k [00:00<?, ?B/s]"
      ]
     },
     "metadata": {},
     "output_type": "display_data"
    },
    {
     "data": {
      "application/vnd.jupyter.widget-view+json": {
       "model_id": "822a3b680b3144579c37ad3f9e26c18f",
       "version_major": 2,
       "version_minor": 0
      },
      "text/plain": [
       "model.onnx_data:   0%|          | 0.00/2.27G [00:00<?, ?B/s]"
      ]
     },
     "metadata": {},
     "output_type": "display_data"
    },
    {
     "data": {
      "application/vnd.jupyter.widget-view+json": {
       "model_id": "8df377abb4dc4bf6aac2fc333e59538b",
       "version_major": 2,
       "version_minor": 0
      },
      "text/plain": [
       "pytorch_model.bin:   0%|          | 0.00/2.27G [00:00<?, ?B/s]"
      ]
     },
     "metadata": {},
     "output_type": "display_data"
    },
    {
     "data": {
      "application/vnd.jupyter.widget-view+json": {
       "model_id": "36681d09e29d4576b4a589437456082a",
       "version_major": 2,
       "version_minor": 0
      },
      "text/plain": [
       "onnx/tokenizer_config.json:   0%|          | 0.00/1.17k [00:00<?, ?B/s]"
      ]
     },
     "metadata": {},
     "output_type": "display_data"
    },
    {
     "data": {
      "application/vnd.jupyter.widget-view+json": {
       "model_id": "4d190753e066470e813e048c27c7ca65",
       "version_major": 2,
       "version_minor": 0
      },
      "text/plain": [
       "onnx/config.json:   0%|          | 0.00/698 [00:00<?, ?B/s]"
      ]
     },
     "metadata": {},
     "output_type": "display_data"
    },
    {
     "data": {
      "application/vnd.jupyter.widget-view+json": {
       "model_id": "dee7393b1b2342ccb577ae2ffda106e7",
       "version_major": 2,
       "version_minor": 0
      },
      "text/plain": [
       "sentence_bert_config.json:   0%|          | 0.00/54.0 [00:00<?, ?B/s]"
      ]
     },
     "metadata": {},
     "output_type": "display_data"
    },
    {
     "data": {
      "application/vnd.jupyter.widget-view+json": {
       "model_id": "5194fcab2f98444b97b52e4580cfa339",
       "version_major": 2,
       "version_minor": 0
      },
      "text/plain": [
       "sparse_linear.pt:   0%|          | 0.00/3.52k [00:00<?, ?B/s]"
      ]
     },
     "metadata": {},
     "output_type": "display_data"
    },
    {
     "data": {
      "application/vnd.jupyter.widget-view+json": {
       "model_id": "ea0f6e561706445e83d9d2f8de173933",
       "version_major": 2,
       "version_minor": 0
      },
      "text/plain": [
       "tokenizer.json:   0%|          | 0.00/17.1M [00:00<?, ?B/s]"
      ]
     },
     "metadata": {},
     "output_type": "display_data"
    },
    {
     "data": {
      "application/vnd.jupyter.widget-view+json": {
       "model_id": "2cff5a6f7c1344e19e84a14ee3c7317a",
       "version_major": 2,
       "version_minor": 0
      },
      "text/plain": [
       "onnx/Constant_7_attr__value:   0%|          | 0.00/65.6k [00:00<?, ?B/s]"
      ]
     },
     "metadata": {},
     "output_type": "display_data"
    }
   ],
   "source": [
    "from FlagEmbedding import BGEM3FlagModel\n",
    "\n",
    "model = BGEM3FlagModel('BAAI/bge-m3',  use_fp16=True) "
   ]
  },
  {
   "cell_type": "code",
   "execution_count": 3,
   "id": "db916f38-7a95-44bf-aa6f-3919907e9237",
   "metadata": {},
   "outputs": [],
   "source": [
    "import pandas as pd\n",
    "import json\n",
    "\n",
    "ans_path=\"競賽資料集/dataset/preliminary/ground_truths_example.json\"\n",
    "with open(ans_path, 'rb') as f:\n",
    "    ans = json.load(f)  # 讀取問題檔案\n",
    "\n",
    "with open(\"競賽資料集/dataset/preliminary/questions_example.json\", 'rb') as f:\n",
    "    que = json.load(f) \n",
    "    \n",
    "questions = pd.DataFrame( que['questions'] )\n",
    "\n",
    "y=pd.DataFrame(ans['ground_truths'])\n",
    "output=pd.merge(y,questions,on=['qid','category'])\n",
    "output.loc[output[output['qid']==99].index[0],'retrieve']=693\n",
    "output.loc[output[output['qid']==97].index[0],'retrieve']=579\n",
    "output.loc[output[output['qid']==50].index[0],'source'].append(78)\n",
    "output.loc[output[output['qid']==109].index[0],'source'].append(283)\n",
    "output.loc[output[output['qid']==135].index[0],'source'].append(28)"
   ]
  },
  {
   "cell_type": "markdown",
   "id": "6f0807c2-c915-40ad-b2a6-761b36a1fec1",
   "metadata": {},
   "source": [
    "# 訓練資料"
   ]
  },
  {
   "cell_type": "code",
   "execution_count": 6,
   "id": "7257081b-c48c-40c4-9953-76d5bf8f5019",
   "metadata": {},
   "outputs": [],
   "source": [
    "faq=output[output['category'] == 'faq']\n",
    "\n",
    "insurance=output[output['category'] == 'insurance']\n",
    "\n",
    "finance=output[output['category'] == 'finance']"
   ]
  },
  {
   "cell_type": "markdown",
   "id": "c42201df-5963-4eaf-a678-49c5d57ac059",
   "metadata": {},
   "source": [
    "# 預測資料"
   ]
  },
  {
   "cell_type": "code",
   "execution_count": 5,
   "id": "44e07a56-9f9b-4c21-a98f-f678d7156471",
   "metadata": {},
   "outputs": [],
   "source": [
    "faq=questions[questions['category'] == 'faq']\n",
    "\n",
    "insurance=questions[questions['category'] == 'insurance']\n",
    "\n",
    "finance=questions[questions['category'] == 'finance']"
   ]
  },
  {
   "cell_type": "code",
   "execution_count": null,
   "id": "57c6f11a-9c21-4090-9952-360aee50c7bf",
   "metadata": {},
   "outputs": [],
   "source": []
  },
  {
   "cell_type": "code",
   "execution_count": 7,
   "id": "1b3f5070-da91-4d59-bbfa-59e1ca048c05",
   "metadata": {},
   "outputs": [],
   "source": [
    "fag_key={}\n",
    "with open(os.path.join('競賽資料集/reference', 'faq/pid_map_content.json'), 'rb') as f_s:\n",
    "    key_to_source_dict = json.load(f_s)  # 讀取參考資料文件\n",
    "    key_to_source_dict = {int(key): value for key, value in key_to_source_dict.items()}\n",
    "    for key, value in key_to_source_dict.items():\n",
    "        fag_key[int(key)]=[t2s.convert(v['question']) for v in value]"
   ]
  },
  {
   "cell_type": "code",
   "execution_count": 8,
   "id": "12d3ba37-9cc9-4eb8-911d-4297b32c1a2f",
   "metadata": {},
   "outputs": [
    {
     "name": "stdout",
     "output_type": "stream",
     "text": [
      "CPU times: user 24.2 s, sys: 3.02 s, total: 27.3 s\n",
      "Wall time: 25.2 s\n"
     ]
    }
   ],
   "source": [
    "%%time\n",
    "\n",
    "ans_list=[]\n",
    "for row in faq.itertuples():\n",
    "    sentences_1=[ t2s.convert(row.query) ]\n",
    "\n",
    "    c_max=[]\n",
    "    c_mean=[]\n",
    "    for y_id in row.source:    \n",
    "        sentences_2=fag_key[y_id]\n",
    "        sentence_pairs = [[i,j] for i in sentences_1 for j in sentences_2]\n",
    "        score_list=model.compute_score(sentence_pairs, \n",
    "                          max_passage_length=250,\n",
    "                          weights_for_different_modes=[0.35, 0.3, 0.35])\n",
    "        c_max.append(max(score_list['colbert+sparse+dense']))\n",
    "        c_mean.append(sum(score_list['colbert+sparse+dense'])/len(score_list['colbert+sparse+dense']))\n",
    "    \n",
    "    ans_list.append({'qid':row.qid, 'category':row.category, 'retrieve':row.retrieve,'source':row.source,'c_max':c_max, 'c_mean':c_mean})\n",
    "    \n",
    "    # ans_list.append({'qid':row.qid, 'category':row.category ,'source':row.source,'c_max':c_max, 'c_mean':c_mean})\n",
    "        # break\n",
    "    # break"
   ]
  },
  {
   "cell_type": "code",
   "execution_count": 9,
   "id": "600a65ef-38d6-468b-bd8d-c400622ff14e",
   "metadata": {},
   "outputs": [],
   "source": [
    "ans_df=pd.DataFrame(ans_list)"
   ]
  },
  {
   "cell_type": "code",
   "execution_count": 10,
   "id": "2aa17eaf-3209-4c86-b305-e892fa292985",
   "metadata": {},
   "outputs": [],
   "source": [
    "\n",
    "\n",
    "ans_df['c_m']= ans_df[['c_max','c_mean']].apply( lambda x: [a*0.7 + b*0.3 for a, b in zip(x['c_max'], x['c_mean'])] ,axis=1 )\n",
    "ans_df['ans']=ans_df.apply( lambda x:  x['source'][x['c_m'].index(max(x['c_m']))] ,axis=1)"
   ]
  },
  {
   "cell_type": "code",
   "execution_count": 11,
   "id": "0259240f-c672-488f-a00b-1613bc6d4d3c",
   "metadata": {},
   "outputs": [
    {
     "data": {
      "text/plain": [
       "49"
      ]
     },
     "execution_count": 11,
     "metadata": {},
     "output_type": "execute_result"
    }
   ],
   "source": [
    "ans_df['score']=ans_df.apply(lambda x:1 if x['retrieve']==x['ans'] else 0,axis=1)\n",
    "ans_df['score'].sum()"
   ]
  },
  {
   "cell_type": "code",
   "execution_count": null,
   "id": "f319f31b-3664-478c-8a05-9b9eb555c0a5",
   "metadata": {},
   "outputs": [],
   "source": []
  },
  {
   "cell_type": "code",
   "execution_count": null,
   "id": "3965f6ff-ef52-4127-afd9-51312a0878aa",
   "metadata": {},
   "outputs": [],
   "source": []
  },
  {
   "cell_type": "code",
   "execution_count": 12,
   "id": "41d8c768-e3f8-4e31-88a4-7a4f5243630a",
   "metadata": {},
   "outputs": [],
   "source": [
    "with open(\"llm_s_ans_insurance.pkl\", \"rb\") as f:\n",
    "    llm_s_ans=pickle.load(f)\n",
    "with open(\"llm_ans_insurance.pkl\", \"rb\") as f:\n",
    "    llm_ans=pickle.load(f)"
   ]
  },
  {
   "cell_type": "code",
   "execution_count": 13,
   "id": "5aca8ade-8d18-4f17-9076-af1ef64f3fd6",
   "metadata": {},
   "outputs": [],
   "source": [
    "def parse_list(text):\n",
    "    match = re.search(r'\\[.*?\\]', text, re.DOTALL)\n",
    "    json_str = match.group(0)\n",
    "    return eval(json_str)"
   ]
  },
  {
   "cell_type": "code",
   "execution_count": null,
   "id": "91fb1dd2-b18d-41b4-b367-d7ddb1b573b4",
   "metadata": {},
   "outputs": [],
   "source": []
  },
  {
   "cell_type": "code",
   "execution_count": 14,
   "id": "42e7d96f-75a9-42dc-87fc-b226ee10571b",
   "metadata": {},
   "outputs": [
    {
     "name": "stdout",
     "output_type": "stream",
     "text": [
      "CPU times: user 825 ms, sys: 0 ns, total: 825 ms\n",
      "Wall time: 825 ms\n"
     ]
    }
   ],
   "source": [
    "%%time\n",
    "import re\n",
    "insurance_key={}\n",
    "insurance_s_key={}\n",
    "\n",
    "for key in llm_ans.keys():\n",
    "    tmp1=[]\n",
    "    tmp2=[]\n",
    "    for v1, v2 in zip(llm_ans[key], llm_s_ans[key]):\n",
    "        v1=t2s.convert(v1[1])\n",
    "        v2=t2s.convert(v2[1])\n",
    "        try:\n",
    "            tmp1.extend(parse_list(v1))\n",
    "        except:\n",
    "            v1=v1.replace('未到期保险费会如何处理？','未到期保险费会如何处理？\"]').replace('？」]','？\"]')\n",
    "            tmp1.extend(parse_list(v1))\n",
    "            \n",
    "        tmp2.extend(parse_list(v2))\n",
    "\n",
    "    new_key=int(key.split('/')[-1].strip('.pdf'))\n",
    "    insurance_key[new_key]=tmp1\n",
    "    insurance_s_key[new_key]=tmp2"
   ]
  },
  {
   "cell_type": "code",
   "execution_count": null,
   "id": "7e594d8b-137b-4923-b949-f8728ea01220",
   "metadata": {},
   "outputs": [],
   "source": []
  },
  {
   "cell_type": "code",
   "execution_count": 15,
   "id": "88cfaad6-6644-42e6-ade6-1825a5d38dbd",
   "metadata": {},
   "outputs": [
    {
     "name": "stderr",
     "output_type": "stream",
     "text": [
      "Compute Scores: 100%|█████████████████████████████████████████████████████████████████████| 1/1 [00:00<00:00,  5.35it/s]\n",
      "Compute Scores: 100%|█████████████████████████████████████████████████████████████████████| 1/1 [00:00<00:00,  9.70it/s]\n",
      "Compute Scores: 100%|█████████████████████████████████████████████████████████████████████| 1/1 [00:00<00:00,  9.64it/s]\n",
      "Compute Scores: 100%|█████████████████████████████████████████████████████████████████████| 1/1 [00:00<00:00,  9.73it/s]\n",
      "Compute Scores: 100%|█████████████████████████████████████████████████████████████████████| 1/1 [00:00<00:00,  8.37it/s]\n",
      "Compute Scores: 100%|█████████████████████████████████████████████████████████████████████| 1/1 [00:00<00:00,  8.06it/s]\n",
      "Compute Scores: 100%|█████████████████████████████████████████████████████████████████████| 1/1 [00:00<00:00,  8.68it/s]\n",
      "Compute Scores: 100%|█████████████████████████████████████████████████████████████████████| 1/1 [00:02<00:00,  2.51s/it]\n",
      "Compute Scores: 100%|█████████████████████████████████████████████████████████████████████| 1/1 [00:00<00:00,  8.68it/s]\n",
      "Compute Scores: 100%|█████████████████████████████████████████████████████████████████████| 1/1 [00:00<00:00,  7.13it/s]\n",
      "Compute Scores: 100%|█████████████████████████████████████████████████████████████████████| 1/1 [00:00<00:00,  1.34it/s]\n",
      "Compute Scores: 100%|█████████████████████████████████████████████████████████████████████| 1/1 [00:00<00:00,  9.68it/s]\n",
      "Compute Scores: 100%|█████████████████████████████████████████████████████████████████████| 1/1 [00:00<00:00,  1.40it/s]\n",
      "Compute Scores: 100%|█████████████████████████████████████████████████████████████████████| 1/1 [00:00<00:00,  8.83it/s]\n"
     ]
    },
    {
     "name": "stdout",
     "output_type": "stream",
     "text": [
      "CPU times: user 26.4 s, sys: 4.12 s, total: 30.5 s\n",
      "Wall time: 25.6 s\n"
     ]
    }
   ],
   "source": [
    "%%time\n",
    "ans_list2=[]\n",
    "for row in insurance.itertuples():\n",
    "    sentences_1=[ t2s.convert(row.query) ]\n",
    "\n",
    "    c_max=[]\n",
    "    c_mean=[]\n",
    "    for y_id in row.source:    \n",
    "        sentences_2=insurance_s_key[y_id]+insurance_key[y_id]\n",
    "        sentence_pairs = [[i,j] for i in sentences_1 for j in sentences_2]\n",
    "        \n",
    "        score_list=model.compute_score(sentence_pairs, \n",
    "                          max_passage_length=1024,\n",
    "                          # weights_for_different_modes=[0.4, 0.3, 0.3],\n",
    "                          weights_for_different_modes=[0, 0, 1])\n",
    "        c_max.append(max(score_list['colbert+sparse+dense']))\n",
    "        c_mean.append(sum(score_list['colbert+sparse+dense'])/len(score_list['colbert+sparse+dense']))\n",
    "\n",
    "        # break\n",
    "    # break    \n",
    "    ans_list2.append({'qid':row.qid, 'category':row.category, 'retrieve':row.retrieve,'source':row.source,'c_max':c_max, 'c_mean':c_mean})\n",
    "\n",
    "    # ans_list2.append({'qid':row.qid, 'category':row.category, 'source':row.source,'c_max':c_max, 'c_mean':c_mean})"
   ]
  },
  {
   "cell_type": "code",
   "execution_count": 16,
   "id": "8a613cf9-9b50-4f77-8b2d-caec16c6cd5e",
   "metadata": {},
   "outputs": [],
   "source": [
    "ans_df=pd.DataFrame(ans_list2)"
   ]
  },
  {
   "cell_type": "code",
   "execution_count": null,
   "id": "eeb1872c-dfaa-4592-a527-2d56ad89dc15",
   "metadata": {},
   "outputs": [],
   "source": []
  },
  {
   "cell_type": "code",
   "execution_count": 17,
   "id": "b9fa75d5-5e26-4ce6-8777-c323511c339c",
   "metadata": {},
   "outputs": [],
   "source": [
    "ans_df['c_m']= ans_df[['c_max','c_mean']].apply( lambda x: [a*0.7 + b*0.3 for a, b in zip(x['c_max'], x['c_mean'])] ,axis=1 )\n",
    "ans_df['ans']=ans_df.apply( lambda x:  x['source'][x['c_m'].index(max(x['c_m']))] ,axis=1)"
   ]
  },
  {
   "cell_type": "code",
   "execution_count": 18,
   "id": "cd20c33d-80b0-403f-8a10-ca8096832e7b",
   "metadata": {},
   "outputs": [
    {
     "data": {
      "text/plain": [
       "47"
      ]
     },
     "execution_count": 18,
     "metadata": {},
     "output_type": "execute_result"
    }
   ],
   "source": [
    "ans_df['score']=ans_df.apply(lambda x:1 if x['retrieve']==x['ans'] else 0,axis=1)\n",
    "ans_df['score'].sum()"
   ]
  },
  {
   "cell_type": "code",
   "execution_count": null,
   "id": "d225eb68-1ef8-4c7a-b1f8-5417e567e8b7",
   "metadata": {},
   "outputs": [],
   "source": []
  },
  {
   "cell_type": "code",
   "execution_count": 27,
   "id": "4287b2f2-85b2-40aa-9cc1-58eea9cf1589",
   "metadata": {},
   "outputs": [],
   "source": [
    "ans_df['c_max'] = ans_df['c_max'].apply(lambda lst: [round(num, 2) for num in lst])\n",
    "ans_df['c_mean'] = ans_df['c_mean'].apply(lambda lst: [round(num, 2) for num in lst])"
   ]
  },
  {
   "cell_type": "code",
   "execution_count": 28,
   "id": "a158ec14-2542-414e-ac8c-7cea894c019a",
   "metadata": {},
   "outputs": [
    {
     "data": {
      "text/html": [
       "<div>\n",
       "<style scoped>\n",
       "    .dataframe tbody tr th:only-of-type {\n",
       "        vertical-align: middle;\n",
       "    }\n",
       "\n",
       "    .dataframe tbody tr th {\n",
       "        vertical-align: top;\n",
       "    }\n",
       "\n",
       "    .dataframe thead th {\n",
       "        text-align: right;\n",
       "    }\n",
       "</style>\n",
       "<table border=\"1\" class=\"dataframe\">\n",
       "  <thead>\n",
       "    <tr style=\"text-align: right;\">\n",
       "      <th></th>\n",
       "      <th>qid</th>\n",
       "      <th>category</th>\n",
       "      <th>retrieve</th>\n",
       "      <th>source</th>\n",
       "      <th>c_max</th>\n",
       "      <th>c_mean</th>\n",
       "      <th>c_m</th>\n",
       "      <th>ans</th>\n",
       "      <th>score</th>\n",
       "    </tr>\n",
       "  </thead>\n",
       "  <tbody>\n",
       "    <tr>\n",
       "      <th>3</th>\n",
       "      <td>4</td>\n",
       "      <td>insurance</td>\n",
       "      <td>186</td>\n",
       "      <td>[186, 627, 536, 179, 174, 178]</td>\n",
       "      <td>[0.71, 0.75, 0.73, 0.71, 0.71, 0.71]</td>\n",
       "      <td>[0.53, 0.49, 0.53, 0.55, 0.52, 0.51]</td>\n",
       "      <td>[0.6584585005683558, 0.6715780609930064, 0.673...</td>\n",
       "      <td>536</td>\n",
       "      <td>0</td>\n",
       "    </tr>\n",
       "    <tr>\n",
       "      <th>28</th>\n",
       "      <td>29</td>\n",
       "      <td>insurance</td>\n",
       "      <td>578</td>\n",
       "      <td>[527, 256, 102, 578, 524, 236, 431]</td>\n",
       "      <td>[0.8, 0.79, 0.83, 0.74, 0.78, 0.71, 0.79]</td>\n",
       "      <td>[0.67, 0.66, 0.64, 0.63, 0.67, 0.64, 0.66]</td>\n",
       "      <td>[0.7632008240140717, 0.753765582293272, 0.7707...</td>\n",
       "      <td>102</td>\n",
       "      <td>0</td>\n",
       "    </tr>\n",
       "    <tr>\n",
       "      <th>34</th>\n",
       "      <td>35</td>\n",
       "      <td>insurance</td>\n",
       "      <td>319</td>\n",
       "      <td>[502, 62, 319, 224, 207, 283, 441]</td>\n",
       "      <td>[0.82, 0.71, 0.84, 0.91, 0.71, 0.83, 0.68]</td>\n",
       "      <td>[0.62, 0.61, 0.63, 0.68, 0.59, 0.63, 0.6]</td>\n",
       "      <td>[0.7630626180803919, 0.6765817351341247, 0.777...</td>\n",
       "      <td>224</td>\n",
       "      <td>0</td>\n",
       "    </tr>\n",
       "  </tbody>\n",
       "</table>\n",
       "</div>"
      ],
      "text/plain": [
       "    qid   category  retrieve                               source  \\\n",
       "3     4  insurance       186       [186, 627, 536, 179, 174, 178]   \n",
       "28   29  insurance       578  [527, 256, 102, 578, 524, 236, 431]   \n",
       "34   35  insurance       319   [502, 62, 319, 224, 207, 283, 441]   \n",
       "\n",
       "                                         c_max  \\\n",
       "3         [0.71, 0.75, 0.73, 0.71, 0.71, 0.71]   \n",
       "28   [0.8, 0.79, 0.83, 0.74, 0.78, 0.71, 0.79]   \n",
       "34  [0.82, 0.71, 0.84, 0.91, 0.71, 0.83, 0.68]   \n",
       "\n",
       "                                        c_mean  \\\n",
       "3         [0.53, 0.49, 0.53, 0.55, 0.52, 0.51]   \n",
       "28  [0.67, 0.66, 0.64, 0.63, 0.67, 0.64, 0.66]   \n",
       "34   [0.62, 0.61, 0.63, 0.68, 0.59, 0.63, 0.6]   \n",
       "\n",
       "                                                  c_m  ans  score  \n",
       "3   [0.6584585005683558, 0.6715780609930064, 0.673...  536      0  \n",
       "28  [0.7632008240140717, 0.753765582293272, 0.7707...  102      0  \n",
       "34  [0.7630626180803919, 0.6765817351341247, 0.777...  224      0  "
      ]
     },
     "execution_count": 28,
     "metadata": {},
     "output_type": "execute_result"
    }
   ],
   "source": [
    "ans_df[1!=ans_df['score']]"
   ]
  },
  {
   "cell_type": "code",
   "execution_count": null,
   "id": "a5bb29cb-265a-441c-a5b5-8f1735eb2ab4",
   "metadata": {},
   "outputs": [],
   "source": []
  },
  {
   "cell_type": "code",
   "execution_count": null,
   "id": "02823845-b086-46f4-833f-e01dc1162ca3",
   "metadata": {},
   "outputs": [],
   "source": []
  },
  {
   "cell_type": "code",
   "execution_count": 29,
   "id": "1a28bfbb-a34c-4dcd-ab51-f459943078ee",
   "metadata": {},
   "outputs": [],
   "source": [
    "# !pip install langchain"
   ]
  },
  {
   "cell_type": "code",
   "execution_count": 19,
   "id": "e322dd3a-587e-49b3-a9f0-bb9649eba5dc",
   "metadata": {},
   "outputs": [],
   "source": [
    "with open(\"finance_new_q.pkl\", \"rb\") as f:\n",
    "    finance_new_q=pickle.load(f)\n",
    "finance_new_q=finance_new_q.set_index('qid')['new_query'].to_dict()"
   ]
  },
  {
   "cell_type": "code",
   "execution_count": 20,
   "id": "969ffc96-7b61-45ca-af05-3e2133b54c70",
   "metadata": {},
   "outputs": [],
   "source": [
    "with open(\"corpus_dict_finance.pkl\", \"rb\") as f:\n",
    "    corpus_dict_finance=pickle.load(f)\n",
    "\n",
    "with open(\"corpus_dict_finance_img.pkl\", \"rb\") as f:\n",
    "    corpus_dict_finance_img=pickle.load(f)\n",
    "\n",
    "corpus_dict_finance.update(corpus_dict_finance_img)"
   ]
  },
  {
   "cell_type": "code",
   "execution_count": null,
   "id": "fc48e157-e172-4ee8-afab-bc09ff5ed446",
   "metadata": {},
   "outputs": [],
   "source": []
  },
  {
   "cell_type": "code",
   "execution_count": 23,
   "id": "e80d9036-0006-4921-8497-e8e680525fc8",
   "metadata": {},
   "outputs": [],
   "source": [
    "# !pip install langchain"
   ]
  },
  {
   "cell_type": "code",
   "execution_count": 24,
   "id": "3fb93e68-552a-42a3-9fe4-009a6a4fc3fb",
   "metadata": {},
   "outputs": [],
   "source": [
    "from langchain_text_splitters import RecursiveCharacterTextSplitter\n",
    "text_splitter = RecursiveCharacterTextSplitter(chunk_size=300, chunk_overlap=30)"
   ]
  },
  {
   "cell_type": "code",
   "execution_count": 25,
   "id": "a86a39ea-3bb0-4e46-9ff4-2d6ead7a0ae5",
   "metadata": {},
   "outputs": [
    {
     "name": "stdout",
     "output_type": "stream",
     "text": [
      "CPU times: user 1min 24s, sys: 2.64 s, total: 1min 27s\n",
      "Wall time: 1min 26s\n"
     ]
    }
   ],
   "source": [
    "%%time\n",
    "ans_list3=[]\n",
    "for row in finance.itertuples():\n",
    "    \n",
    "    sentences_1=[ t2s.convert(finance_new_q[row.qid]) ]\n",
    "    \n",
    "    c_max=[]\n",
    "    for y_id in row.source:\n",
    "        texts = text_splitter.create_documents([t2s.convert(corpus_dict_finance[y_id][:8000] )])\n",
    "        sentences_2= [text.page_content for text in texts]\n",
    "\n",
    "        sentence_pairs = [[i,j] for i in sentences_1 for j in sentences_2]\n",
    "        score_list=model.compute_score(sentence_pairs, \n",
    "                          max_passage_length=600,\n",
    "                          weights_for_different_modes=[0.2, 0.5, 0.3])\n",
    "        c_max.append(max(score_list['colbert+sparse+dense']))\n",
    "\n",
    "    c_mean=[]\n",
    "    for y_id in row.source:\n",
    "        sentences_2=[t2s.convert(corpus_dict_finance[y_id][:8000])]\n",
    "        sentence_pairs = [[i,j] for i in sentences_1 for j in sentences_2]\n",
    "        \n",
    "        score_list=model.compute_score(sentence_pairs, \n",
    "                          max_passage_length=8000,\n",
    "                          weights_for_different_modes=[0.2, 0.3, 0.5])\n",
    "        c_mean.append(score_list['colbert+sparse+dense'][0])\n",
    "\n",
    "    ans_list3.append({'qid':row.qid, 'category':row.category, 'retrieve':row.retrieve,'source':row.source,'c_max':c_max, 'c_mean':c_mean})\n",
    "    \n",
    "    # ans_list3.append({'qid':row.qid, 'category':row.category, 'source':row.source,'c_max':c_max, 'c_mean':c_mean})\n",
    "\n",
    "    # break"
   ]
  },
  {
   "cell_type": "code",
   "execution_count": 26,
   "id": "b3aa2f20-ca98-4a84-bd60-62beb3e1f959",
   "metadata": {},
   "outputs": [],
   "source": [
    "ans_df=pd.DataFrame(ans_list3)"
   ]
  },
  {
   "cell_type": "code",
   "execution_count": 27,
   "id": "21524ac2-4f95-4645-8ac4-07476ae52c8a",
   "metadata": {},
   "outputs": [],
   "source": [
    "ans_df['c_m']= ans_df[['c_max','c_mean']].apply( lambda x: [a*0.4 + b*0.6 for a, b in zip(x['c_max'], x['c_mean'])] ,axis=1 )\n",
    "ans_df['ans']=ans_df.apply( lambda x:  x['source'][x['c_m'].index(max(x['c_m']))] ,axis=1)"
   ]
  },
  {
   "cell_type": "code",
   "execution_count": 28,
   "id": "0ee2ea26-c3d4-4ffb-812f-a95771486988",
   "metadata": {},
   "outputs": [
    {
     "data": {
      "text/plain": [
       "48"
      ]
     },
     "execution_count": 28,
     "metadata": {},
     "output_type": "execute_result"
    }
   ],
   "source": [
    "ans_df['score']=ans_df.apply(lambda x:1 if x['retrieve']==x['ans'] else 0,axis=1)\n",
    "ans_df['score'].sum()"
   ]
  },
  {
   "cell_type": "code",
   "execution_count": null,
   "id": "5e6d88d7-b60f-4c7b-bb73-66b39eafe100",
   "metadata": {},
   "outputs": [],
   "source": []
  },
  {
   "cell_type": "code",
   "execution_count": null,
   "id": "5af519cc-27ab-4280-a3ad-07e159ee15c0",
   "metadata": {},
   "outputs": [],
   "source": []
  },
  {
   "cell_type": "code",
   "execution_count": null,
   "id": "c415376c-018c-458d-886e-50fd68aa1c38",
   "metadata": {},
   "outputs": [],
   "source": []
  },
  {
   "cell_type": "code",
   "execution_count": null,
   "id": "e2c0118c-c6ba-4b8f-ad9a-d77a71724d81",
   "metadata": {},
   "outputs": [],
   "source": []
  },
  {
   "cell_type": "code",
   "execution_count": 29,
   "id": "c064c7d6-6a58-44b4-8f9d-089c36c8a99d",
   "metadata": {},
   "outputs": [],
   "source": [
    "ans1=pd.DataFrame(ans_list2)\n",
    "ans2=pd.DataFrame(ans_list3)\n",
    "ans3=pd.DataFrame(ans_list)"
   ]
  },
  {
   "cell_type": "code",
   "execution_count": 30,
   "id": "9bb87c6f-3c78-4a00-a7b6-821d932712ec",
   "metadata": {},
   "outputs": [],
   "source": [
    "all_ans=pd.concat([ans1,ans2,ans3])"
   ]
  },
  {
   "cell_type": "code",
   "execution_count": 31,
   "id": "041a0cf2-ce41-409a-b944-15ba8ecef3b0",
   "metadata": {},
   "outputs": [],
   "source": [
    "import numpy as np\n",
    "\n",
    "def one_model(category,x1,x2):\n",
    "    x1=np.array(x1)\n",
    "    x2=np.array(x2)\n",
    "    if category=='insurance':\n",
    "        return x1*0.7+x2*0.3\n",
    "    if category=='finance':\n",
    "        return x1*0.4+x2*0.6\n",
    "    if category=='faq':\n",
    "        return x1*0.7+x2*0.3"
   ]
  },
  {
   "cell_type": "code",
   "execution_count": 32,
   "id": "6adb1b01-805c-4a66-a61d-512800d62dba",
   "metadata": {},
   "outputs": [],
   "source": [
    "all_ans['c_m']=all_ans.apply(lambda x: one_model(x['category'],x['c_max'], x['c_mean']).tolist(),axis=1)\n",
    "all_ans['ans']=all_ans.apply( lambda x:  x['source'][x['c_m'].index(max(x['c_m']))] ,axis=1)"
   ]
  },
  {
   "cell_type": "code",
   "execution_count": 33,
   "id": "25c4573a-8089-4dde-9eff-6353269c6d93",
   "metadata": {},
   "outputs": [
    {
     "data": {
      "text/plain": [
       "144"
      ]
     },
     "execution_count": 33,
     "metadata": {},
     "output_type": "execute_result"
    }
   ],
   "source": [
    "all_ans['score']=all_ans.apply(lambda x:1 if x['retrieve']==x['ans'] else 0,axis=1)\n",
    "all_ans['score'].sum()"
   ]
  },
  {
   "cell_type": "code",
   "execution_count": null,
   "id": "8f8c0ad6-eeba-4305-9fd3-e68122caa271",
   "metadata": {},
   "outputs": [],
   "source": []
  },
  {
   "cell_type": "code",
   "execution_count": 34,
   "id": "16bb8421-5bb8-47a4-89d0-ec7fba35e0b6",
   "metadata": {},
   "outputs": [],
   "source": [
    "all_ans['retrieve']=all_ans.apply( lambda x:  x['source'][x['c_m'].index(max(x['c_m']))] ,axis=1)"
   ]
  },
  {
   "cell_type": "code",
   "execution_count": 35,
   "id": "69ea5a7e-b8bd-4db6-852c-a41f67b1ad14",
   "metadata": {},
   "outputs": [],
   "source": [
    "ans_output={'answers':all_ans[['qid','retrieve']].to_dict('records')}"
   ]
  },
  {
   "cell_type": "code",
   "execution_count": 36,
   "id": "223fd304-3a7a-4190-b9a7-3e0538ef3ae9",
   "metadata": {},
   "outputs": [],
   "source": [
    "with open('pred_retrieve.json', 'w', encoding='utf8') as f:\n",
    "    json.dump(ans_output, f, ensure_ascii=False, indent=4)  # 儲存檔案，確保格式和非ASCII字符"
   ]
  },
  {
   "cell_type": "code",
   "execution_count": null,
   "id": "d79c3220-fa94-4ca6-923d-5684ab01e3f9",
   "metadata": {},
   "outputs": [],
   "source": []
  }
 ],
 "metadata": {
  "kernelspec": {
   "display_name": "Python 3 (ipykernel)",
   "language": "python",
   "name": "python3"
  },
  "language_info": {
   "codemirror_mode": {
    "name": "ipython",
    "version": 3
   },
   "file_extension": ".py",
   "mimetype": "text/x-python",
   "name": "python",
   "nbconvert_exporter": "python",
   "pygments_lexer": "ipython3",
   "version": "3.12.7"
  }
 },
 "nbformat": 4,
 "nbformat_minor": 5
}
