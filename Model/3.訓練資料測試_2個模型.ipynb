{
 "cells": [
  {
   "cell_type": "code",
   "execution_count": null,
   "id": "6fc062cb-e869-4d41-92f8-00e3b19c603e",
   "metadata": {},
   "outputs": [],
   "source": []
  },
  {
   "cell_type": "markdown",
   "id": "de93f53f-3870-41c0-9b3a-33c65cd2bad1",
   "metadata": {},
   "source": [
    "# 使用 openbmb/MiniCPM-Embedding"
   ]
  },
  {
   "cell_type": "code",
   "execution_count": 271,
   "id": "fbcdc6da-06a8-4149-b905-18f85fd371ea",
   "metadata": {},
   "outputs": [
    {
     "data": {
      "application/vnd.jupyter.widget-view+json": {
       "model_id": "3659d20721634e1c9982fbef8fce6f05",
       "version_major": 2,
       "version_minor": 0
      },
      "text/plain": [
       "Loading checkpoint shards:   0%|          | 0/2 [00:00<?, ?it/s]"
      ]
     },
     "metadata": {},
     "output_type": "display_data"
    }
   ],
   "source": [
    "\n",
    "from transformers import AutoModel, AutoTokenizer\n",
    "import torch\n",
    "import torch.nn.functional as F\n",
    "\n",
    "model_name = \"openbmb/MiniCPM-Embedding\"\n",
    "tokenizer = AutoTokenizer.from_pretrained(model_name)\n",
    "model_emb = AutoModel.from_pretrained(model_name, trust_remote_code=True,  torch_dtype=torch.float16).to(\"cuda\")\n",
    "model_emb.eval()\n",
    "\n",
    "# 由于在 `model.forward` 中缩放了最终隐层表示，此处的 mean pooling 实际上起到了 weighted mean pooling 的作用\n",
    "# As we scale hidden states in `model.forward`, mean pooling here actually works as weighted mean pooling\n",
    "def mean_pooling(hidden, attention_mask):\n",
    "    s = torch.sum(hidden * attention_mask.unsqueeze(-1).float(), dim=1)\n",
    "    d = attention_mask.sum(dim=1, keepdim=True).float()\n",
    "    reps = s / d\n",
    "    return reps\n",
    "\n",
    "@torch.no_grad()\n",
    "def encode(input_texts):\n",
    "    batch_dict = tokenizer(input_texts, max_length=512, padding=True, truncation=True, return_tensors='pt', return_attention_mask=True).to(\"cuda\")\n",
    "    \n",
    "    outputs = model_emb(**batch_dict)\n",
    "    attention_mask = batch_dict[\"attention_mask\"]\n",
    "    hidden = outputs.last_hidden_state\n",
    "\n",
    "    reps = mean_pooling(hidden, attention_mask)   \n",
    "    embeddings = F.normalize(reps, p=2, dim=1).detach().cpu().numpy()\n",
    "    return embeddings\n",
    "\n",
    "# queries = [\"中国的首都是哪里？\"]\n",
    "# passages = [\"beijing\", \"shanghai\"]\n",
    "\n",
    "# INSTRUCTION = \"Query: \"\n",
    "# queries = [INSTRUCTION + query for query in queries]\n",
    "\n",
    "# embeddings_query = encode(queries)\n",
    "# embeddings_doc = encode(passages)\n",
    "\n",
    "# scores = (embeddings_query @ embeddings_doc.T)\n",
    "# print(scores.tolist())  # [[0.3535913825035095, 0.18596848845481873]]\n"
   ]
  },
  {
   "cell_type": "markdown",
   "id": "5643da74-414d-464f-9315-b8485f8da814",
   "metadata": {},
   "source": [
    "# 使用 BAAI/bge-m3"
   ]
  },
  {
   "cell_type": "code",
   "execution_count": 273,
   "id": "2a68e11a-8671-452f-a63c-1abdc91914e2",
   "metadata": {},
   "outputs": [
    {
     "data": {
      "application/vnd.jupyter.widget-view+json": {
       "model_id": "e5fba1c8a75145b4b482dfca6570ad9a",
       "version_major": 2,
       "version_minor": 0
      },
      "text/plain": [
       "Fetching 30 files:   0%|          | 0/30 [00:00<?, ?it/s]"
      ]
     },
     "metadata": {},
     "output_type": "display_data"
    }
   ],
   "source": [
    "from FlagEmbedding import BGEM3FlagModel\n",
    "\n",
    "model = BGEM3FlagModel('BAAI/bge-m3',  use_fp16=True) "
   ]
  },
  {
   "cell_type": "code",
   "execution_count": 274,
   "id": "2a411760-7544-4199-a9f0-d1ef5a3b03b9",
   "metadata": {},
   "outputs": [
    {
     "data": {
      "text/plain": [
       "'U盘'"
      ]
     },
     "execution_count": 274,
     "metadata": {},
     "output_type": "execute_result"
    }
   ],
   "source": [
    "import os\n",
    "import pickle\n",
    "\n",
    "import opencc\n",
    "t2s = opencc.OpenCC('tw2sp.json')\n",
    "t2s.convert('隨身碟')"
   ]
  },
  {
   "cell_type": "code",
   "execution_count": null,
   "id": "92a96fb7-04cc-41b3-9052-29e5cfaa895b",
   "metadata": {},
   "outputs": [],
   "source": []
  },
  {
   "cell_type": "code",
   "execution_count": 280,
   "id": "db916f38-7a95-44bf-aa6f-3919907e9237",
   "metadata": {},
   "outputs": [],
   "source": [
    "import pandas as pd\n",
    "import json\n",
    "\n",
    "ans_path=\"競賽資料集/dataset/preliminary/ground_truths_example.json\"\n",
    "with open(ans_path, 'rb') as f:\n",
    "    ans = json.load(f)  # 讀取問題檔案\n",
    "\n",
    "with open(\"競賽資料集/dataset/preliminary/questions_example.json\", 'rb') as f:\n",
    "    que = json.load(f) \n",
    "    \n",
    "questions = pd.DataFrame( que['questions'] )\n",
    "\n",
    "y=pd.DataFrame(ans['ground_truths'])\n",
    "output=pd.merge(y,questions,on=['qid','category'])\n",
    "output.loc[output[output['qid']==99].index[0],'retrieve']=693\n",
    "output.loc[output[output['qid']==97].index[0],'retrieve']=579\n",
    "output.loc[output[output['qid']==50].index[0],'source'].append(78)\n",
    "output.loc[output[output['qid']==109].index[0],'source'].append(283)\n",
    "output.loc[output[output['qid']==135].index[0],'source'].append(28)"
   ]
  },
  {
   "cell_type": "code",
   "execution_count": null,
   "id": "9ccf4397-1cc2-47bd-ab84-fb2bbe947735",
   "metadata": {},
   "outputs": [],
   "source": []
  },
  {
   "cell_type": "markdown",
   "id": "a72090a5-6bd0-413a-bcbf-450084119f55",
   "metadata": {},
   "source": [
    "# 訓練資料"
   ]
  },
  {
   "cell_type": "code",
   "execution_count": 291,
   "id": "2e63d573-d060-4f80-86ad-b928c5928517",
   "metadata": {},
   "outputs": [],
   "source": [
    "faq=output[output['category'] == 'faq']\n",
    "\n",
    "insurance=output[output['category'] == 'insurance']\n",
    "\n",
    "finance=output[output['category'] == 'finance']"
   ]
  },
  {
   "cell_type": "code",
   "execution_count": null,
   "id": "a6888e4d-159f-4568-ab68-4c82583ce767",
   "metadata": {},
   "outputs": [],
   "source": []
  },
  {
   "cell_type": "markdown",
   "id": "838af8b6-9444-4d36-b6e8-83f46a8f918f",
   "metadata": {},
   "source": [
    "# 預測資料"
   ]
  },
  {
   "cell_type": "code",
   "execution_count": 287,
   "id": "7db6aa6a-d356-4e22-857a-c1ef50c856a5",
   "metadata": {},
   "outputs": [],
   "source": [
    "faq=questions[questions['category'] == 'faq']\n",
    "\n",
    "insurance=questions[questions['category'] == 'insurance']\n",
    "\n",
    "finance=questions[questions['category'] == 'finance']"
   ]
  },
  {
   "cell_type": "code",
   "execution_count": null,
   "id": "ec801974-11ca-4fe6-a7b4-24ffacf3f7fb",
   "metadata": {},
   "outputs": [],
   "source": []
  },
  {
   "cell_type": "code",
   "execution_count": null,
   "id": "fb024b17-8702-4635-bddb-543d9c74e363",
   "metadata": {},
   "outputs": [],
   "source": []
  },
  {
   "cell_type": "code",
   "execution_count": 285,
   "id": "1b3f5070-da91-4d59-bbfa-59e1ca048c05",
   "metadata": {},
   "outputs": [],
   "source": [
    "fag_key={}\n",
    "with open(os.path.join('競賽資料集/reference', 'faq/pid_map_content.json'), 'rb') as f_s:\n",
    "    key_to_source_dict = json.load(f_s)  # 讀取參考資料文件\n",
    "    key_to_source_dict = {int(key): value for key, value in key_to_source_dict.items()}\n",
    "    for key, value in key_to_source_dict.items():\n",
    "        fag_key[int(key)]=[t2s.convert(v['question']) for v in value]"
   ]
  },
  {
   "cell_type": "code",
   "execution_count": 292,
   "id": "12d3ba37-9cc9-4eb8-911d-4297b32c1a2f",
   "metadata": {},
   "outputs": [
    {
     "name": "stdout",
     "output_type": "stream",
     "text": [
      "CPU times: user 30.2 s, sys: 159 ms, total: 30.3 s\n",
      "Wall time: 29.5 s\n"
     ]
    }
   ],
   "source": [
    "%%time\n",
    "\n",
    "ans_list=[]\n",
    "for row in faq.itertuples():\n",
    "    sentences_1=[ t2s.convert(row.query) ]\n",
    "\n",
    "    c_max=[]\n",
    "    c_mean=[]\n",
    "    for y_id in row.source:    \n",
    "        sentences_2=fag_key[y_id]\n",
    "        sentence_pairs = [[i,j] for i in sentences_1 for j in sentences_2]\n",
    "        score_list=model.compute_score(sentence_pairs, \n",
    "                          max_passage_length=250,\n",
    "                          weights_for_different_modes=[0.35, 0.3, 0.35])\n",
    "   \n",
    "        c_max.append(max(score_list['colbert+sparse+dense']))\n",
    "        c_mean.append(sum(score_list['colbert+sparse+dense'])/len(score_list['colbert+sparse+dense']))\n",
    "\n",
    "\n",
    "    c_max_e=[]\n",
    "    c_mean_e=[]\n",
    "    sentences_1=[\"Query: \"+t2s.convert(row.query) ]\n",
    "    for y_id in row.source:    \n",
    "        sentences_2=fag_key[y_id]\n",
    "        embeddings_1 = encode(sentences_1)\n",
    "        embeddings_2 = encode(sentences_2)\n",
    "        similarity = embeddings_1 @ embeddings_2.T\n",
    "        emb=similarity.tolist()\n",
    "        \n",
    "        c_max_e.append(max(emb[0]))\n",
    "        c_mean_e.append(sum(emb[0])/len(emb[0]))\n",
    "\n",
    "    \n",
    "    ans_list.append({'qid':row.qid, 'category':row.category ,'retrieve':row.retrieve,'source':row.source,'c_max':c_max, 'c_mean':c_mean,'c_max_e':c_max_e, 'c_mean_e':c_mean_e})\n",
    "    \n",
    "    # ans_list.append({'qid':row.qid, 'category':row.category ,'source':row.source,'c_max':c_max, 'c_mean':c_mean,'c_max_e':c_max_e, 'c_mean_e':c_mean_e})\n",
    "\n",
    "    \n",
    "        # break\n",
    "    # break"
   ]
  },
  {
   "cell_type": "code",
   "execution_count": 330,
   "id": "e8f87184-3bfb-4d11-acb7-c546082b2e98",
   "metadata": {},
   "outputs": [],
   "source": [
    "ans_df=pd.DataFrame(ans_list)"
   ]
  },
  {
   "cell_type": "code",
   "execution_count": null,
   "id": "1e439915-b199-4b98-8883-55e24f01d44a",
   "metadata": {},
   "outputs": [],
   "source": []
  },
  {
   "cell_type": "code",
   "execution_count": 334,
   "id": "2aa17eaf-3209-4c86-b305-e892fa292985",
   "metadata": {},
   "outputs": [],
   "source": [
    "ans_df['c_m']= ans_df.apply( lambda x: [a*0.7 + b*0.3 for a, b in zip(x['c_max'], x['c_mean'])] ,axis=1 )\n",
    "ans_df['ans']=ans_df.apply( lambda x:  x['source'][x['c_m'].index(max(x['c_m']))] ,axis=1)"
   ]
  },
  {
   "cell_type": "code",
   "execution_count": 335,
   "id": "13787609-7f0d-4509-b995-cbc1c3c9c02c",
   "metadata": {},
   "outputs": [
    {
     "data": {
      "text/plain": [
       "49"
      ]
     },
     "execution_count": 335,
     "metadata": {},
     "output_type": "execute_result"
    }
   ],
   "source": [
    "ans_df['score']=ans_df.apply(lambda x:1 if x['retrieve']==x['ans'] else 0,axis=1)\n",
    "ans_df['score'].sum()"
   ]
  },
  {
   "cell_type": "code",
   "execution_count": null,
   "id": "618eee4c-b1b9-4a0a-a53c-574cb5321625",
   "metadata": {},
   "outputs": [],
   "source": []
  },
  {
   "cell_type": "code",
   "execution_count": 338,
   "id": "ac5d0634-d020-4ecd-8c72-a46aff0c7bc3",
   "metadata": {},
   "outputs": [],
   "source": [
    "ans_df['c_m']= ans_df.apply( lambda x: [a*0 + b*1 for a, b in zip(x['c_max_e'], x['c_mean_e'])] ,axis=1 )\n",
    "ans_df['ans']=ans_df.apply( lambda x:  x['source'][x['c_m'].index(max(x['c_m']))] ,axis=1)"
   ]
  },
  {
   "cell_type": "code",
   "execution_count": 339,
   "id": "0259240f-c672-488f-a00b-1613bc6d4d3c",
   "metadata": {},
   "outputs": [
    {
     "data": {
      "text/plain": [
       "49"
      ]
     },
     "execution_count": 339,
     "metadata": {},
     "output_type": "execute_result"
    }
   ],
   "source": [
    "ans_df['score']=ans_df.apply(lambda x:1 if x['retrieve']==x['ans'] else 0,axis=1)\n",
    "ans_df['score'].sum()"
   ]
  },
  {
   "cell_type": "code",
   "execution_count": null,
   "id": "7cd0a138-7e28-47b5-a04c-c57c225ade8f",
   "metadata": {},
   "outputs": [],
   "source": []
  },
  {
   "cell_type": "code",
   "execution_count": 340,
   "id": "1e08f509-0baf-4f77-8faa-147678cf2042",
   "metadata": {},
   "outputs": [],
   "source": [
    "ans_df['c_m']= ans_df.apply( lambda x: [a*0.4 + b*0.3 + c*0.2 + d*0.1 for a, b, c, d in zip(x['c_max'], x['c_max_e'],x['c_mean'],x['c_mean_e'])] ,axis=1 )\n",
    "ans_df['ans']=ans_df.apply( lambda x:  x['source'][x['c_m'].index(max(x['c_m']))] ,axis=1)"
   ]
  },
  {
   "cell_type": "code",
   "execution_count": 341,
   "id": "787902b4-ada0-4b70-99f9-5a9b18095e79",
   "metadata": {},
   "outputs": [
    {
     "data": {
      "text/plain": [
       "49"
      ]
     },
     "execution_count": 341,
     "metadata": {},
     "output_type": "execute_result"
    }
   ],
   "source": [
    "ans_df['score']=ans_df.apply(lambda x:1 if x['retrieve']==x['ans'] else 0,axis=1)\n",
    "ans_df['score'].sum()"
   ]
  },
  {
   "cell_type": "code",
   "execution_count": null,
   "id": "f319f31b-3664-478c-8a05-9b9eb555c0a5",
   "metadata": {},
   "outputs": [],
   "source": []
  },
  {
   "cell_type": "code",
   "execution_count": null,
   "id": "3965f6ff-ef52-4127-afd9-51312a0878aa",
   "metadata": {},
   "outputs": [],
   "source": []
  },
  {
   "cell_type": "code",
   "execution_count": 342,
   "id": "41d8c768-e3f8-4e31-88a4-7a4f5243630a",
   "metadata": {},
   "outputs": [],
   "source": [
    "with open(\"llm_s_ans_insurance.pkl\", \"rb\") as f:\n",
    "    llm_s_ans=pickle.load(f)\n",
    "with open(\"llm_ans_insurance.pkl\", \"rb\") as f:\n",
    "    llm_ans=pickle.load(f)"
   ]
  },
  {
   "cell_type": "code",
   "execution_count": 295,
   "id": "5aca8ade-8d18-4f17-9076-af1ef64f3fd6",
   "metadata": {},
   "outputs": [],
   "source": [
    "def parse_list(text):\n",
    "    match = re.search(r'\\[.*?\\]', text, re.DOTALL)\n",
    "    json_str = match.group(0)\n",
    "    return eval(json_str)"
   ]
  },
  {
   "cell_type": "code",
   "execution_count": 296,
   "id": "42e7d96f-75a9-42dc-87fc-b226ee10571b",
   "metadata": {},
   "outputs": [
    {
     "name": "stdout",
     "output_type": "stream",
     "text": [
      "CPU times: user 738 ms, sys: 0 ns, total: 738 ms\n",
      "Wall time: 738 ms\n"
     ]
    }
   ],
   "source": [
    "%%time\n",
    "import re\n",
    "insurance_key={}\n",
    "insurance_s_key={}\n",
    "\n",
    "for key in llm_ans.keys():\n",
    "    tmp1=[]\n",
    "    tmp2=[]\n",
    "    for v1, v2 in zip(llm_ans[key], llm_s_ans[key]):\n",
    "        v1=t2s.convert(v1[1])\n",
    "        v2=t2s.convert(v2[1])\n",
    "        try:\n",
    "            tmp1.extend(parse_list(v1))\n",
    "        except:\n",
    "            v1=v1.replace('未到期保险费会如何处理？','未到期保险费会如何处理？\"]').replace('？」]','？\"]')\n",
    "            tmp1.extend(parse_list(v1))\n",
    "            \n",
    "        tmp2.extend(parse_list(v2))\n",
    "\n",
    "    new_key=int(key.split('/')[-1].strip('.pdf'))\n",
    "    insurance_key[new_key]=tmp1\n",
    "    insurance_s_key[new_key]=tmp2"
   ]
  },
  {
   "cell_type": "code",
   "execution_count": null,
   "id": "7e594d8b-137b-4923-b949-f8728ea01220",
   "metadata": {},
   "outputs": [],
   "source": []
  },
  {
   "cell_type": "code",
   "execution_count": 297,
   "id": "88cfaad6-6644-42e6-ade6-1825a5d38dbd",
   "metadata": {},
   "outputs": [
    {
     "name": "stderr",
     "output_type": "stream",
     "text": [
      "Compute Scores: 100%|█████████████████████████████████████████████████████████████████████████████████████████████████████████████| 1/1 [00:00<00:00, 14.11it/s]\n",
      "Compute Scores: 100%|█████████████████████████████████████████████████████████████████████████████████████████████████████████████| 1/1 [00:00<00:00, 15.68it/s]\n",
      "Compute Scores: 100%|█████████████████████████████████████████████████████████████████████████████████████████████████████████████| 1/1 [00:00<00:00, 17.00it/s]\n",
      "Compute Scores: 100%|█████████████████████████████████████████████████████████████████████████████████████████████████████████████| 1/1 [00:00<00:00, 15.09it/s]\n",
      "Compute Scores: 100%|█████████████████████████████████████████████████████████████████████████████████████████████████████████████| 1/1 [00:00<00:00, 13.20it/s]\n",
      "Compute Scores: 100%|█████████████████████████████████████████████████████████████████████████████████████████████████████████████| 1/1 [00:00<00:00, 13.17it/s]\n",
      "Compute Scores: 100%|█████████████████████████████████████████████████████████████████████████████████████████████████████████████| 1/1 [00:00<00:00, 13.65it/s]\n",
      "Compute Scores: 100%|█████████████████████████████████████████████████████████████████████████████████████████████████████████████| 1/1 [00:00<00:00,  4.13it/s]\n",
      "Compute Scores: 100%|█████████████████████████████████████████████████████████████████████████████████████████████████████████████| 1/1 [00:00<00:00, 14.69it/s]\n",
      "Compute Scores: 100%|█████████████████████████████████████████████████████████████████████████████████████████████████████████████| 1/1 [00:00<00:00, 11.97it/s]\n",
      "Compute Scores: 100%|█████████████████████████████████████████████████████████████████████████████████████████████████████████████| 1/1 [00:00<00:00, 12.46it/s]\n",
      "Compute Scores: 100%|█████████████████████████████████████████████████████████████████████████████████████████████████████████████| 1/1 [00:00<00:00, 15.40it/s]\n",
      "Compute Scores: 100%|█████████████████████████████████████████████████████████████████████████████████████████████████████████████| 1/1 [00:00<00:00, 12.23it/s]\n",
      "Compute Scores: 100%|█████████████████████████████████████████████████████████████████████████████████████████████████████████████| 1/1 [00:00<00:00, 14.33it/s]\n"
     ]
    },
    {
     "name": "stdout",
     "output_type": "stream",
     "text": [
      "CPU times: user 45.9 s, sys: 9.64 s, total: 55.5 s\n",
      "Wall time: 49.5 s\n"
     ]
    }
   ],
   "source": [
    "%%time\n",
    "ans_list2=[]\n",
    "for row in insurance.itertuples():\n",
    "    sentences_1=[ t2s.convert(row.query) ]\n",
    "\n",
    "    c_max=[]\n",
    "    c_mean=[]\n",
    "    for y_id in row.source:    \n",
    "        sentences_2=insurance_s_key[y_id]+insurance_key[y_id]\n",
    "        sentence_pairs = [[i,j] for i in sentences_1 for j in sentences_2]\n",
    "        \n",
    "        score_list=model.compute_score(sentence_pairs, \n",
    "                          max_passage_length=1024,\n",
    "                          # weights_for_different_modes=[0.4, 0.3, 0.3],\n",
    "                          weights_for_different_modes=[0, 0, 1])\n",
    "        c_max.append(max(score_list['colbert+sparse+dense']))\n",
    "        c_mean.append(sum(score_list['colbert+sparse+dense'])/len(score_list['colbert+sparse+dense']))\n",
    "\n",
    "    c_max_e=[]\n",
    "    c_mean_e=[]\n",
    "    sentences_1=[\"Query: \"+t2s.convert(row.query) ]\n",
    "    for y_id in row.source:    \n",
    "        sentences_2= insurance_s_key[y_id]+insurance_key[y_id]\n",
    "        embeddings_1 = encode(sentences_1)\n",
    "        embeddings_2 = encode(sentences_2)\n",
    "        similarity = embeddings_1 @ embeddings_2.T\n",
    "        emb=similarity.tolist()\n",
    "        \n",
    "        c_max_e.append(max(emb[0]))\n",
    "        c_mean_e.append(sum(emb[0])/len(emb[0]))\n",
    "    \n",
    "    ans_list2.append({'qid':row.qid, 'category':row.category, 'retrieve':row.retrieve,'source':row.source,'c_max':c_max, 'c_mean':c_mean,'c_max_e':c_max_e, 'c_mean_e':c_mean_e})\n",
    "    # ans_list2.append({'qid':row.qid, 'category':row.category ,'source':row.source,'c_max':c_max, 'c_mean':c_mean,'c_max_e':c_max_e, 'c_mean_e':c_mean_e})"
   ]
  },
  {
   "cell_type": "code",
   "execution_count": 343,
   "id": "8a613cf9-9b50-4f77-8b2d-caec16c6cd5e",
   "metadata": {},
   "outputs": [],
   "source": [
    "ans_df=pd.DataFrame(ans_list2)"
   ]
  },
  {
   "cell_type": "code",
   "execution_count": null,
   "id": "fb3ac7d2-2e04-4a71-a45f-c1a448787c0a",
   "metadata": {},
   "outputs": [],
   "source": []
  },
  {
   "cell_type": "code",
   "execution_count": 366,
   "id": "341d03f3-2b3f-4550-9adc-725698faebc6",
   "metadata": {},
   "outputs": [],
   "source": [
    "ans_df['c_m']= ans_df.apply( lambda x: [a*0.7 + b*0.3 for a, b in zip(x['c_max'], x['c_mean'])] ,axis=1 )\n",
    "ans_df['ans']=ans_df.apply( lambda x:  x['source'][x['c_m'].index(max(x['c_m']))] ,axis=1)"
   ]
  },
  {
   "cell_type": "code",
   "execution_count": 367,
   "id": "50215fdf-bab3-49aa-ac84-1d75d0d7e4b9",
   "metadata": {},
   "outputs": [
    {
     "data": {
      "text/plain": [
       "47"
      ]
     },
     "execution_count": 367,
     "metadata": {},
     "output_type": "execute_result"
    }
   ],
   "source": [
    "ans_df['score']=ans_df.apply(lambda x:1 if x['retrieve']==x['ans'] else 0,axis=1)\n",
    "ans_df['score'].sum()"
   ]
  },
  {
   "cell_type": "code",
   "execution_count": null,
   "id": "67de5f77-46d5-41b9-a766-4956cb9beb1d",
   "metadata": {},
   "outputs": [],
   "source": []
  },
  {
   "cell_type": "code",
   "execution_count": 358,
   "id": "33a0c100-9be9-40a2-95a0-5c7f550c4ff2",
   "metadata": {},
   "outputs": [],
   "source": [
    "ans_df['c_m']= ans_df.apply( lambda x: [a*1 + b*0 for a, b in zip(x['c_max_e'], x['c_mean_e'])] ,axis=1 )\n",
    "ans_df['ans']=ans_df.apply( lambda x:  x['source'][x['c_m'].index(max(x['c_m']))] ,axis=1)"
   ]
  },
  {
   "cell_type": "code",
   "execution_count": 359,
   "id": "d061b8ce-2478-4062-8f70-3a863732611a",
   "metadata": {},
   "outputs": [
    {
     "data": {
      "text/plain": [
       "46"
      ]
     },
     "execution_count": 359,
     "metadata": {},
     "output_type": "execute_result"
    }
   ],
   "source": [
    "ans_df['score']=ans_df.apply(lambda x:1 if x['retrieve']==x['ans'] else 0,axis=1)\n",
    "ans_df['score'].sum()"
   ]
  },
  {
   "cell_type": "code",
   "execution_count": null,
   "id": "639ae2dd-5675-4892-bf30-49763a6c80f0",
   "metadata": {},
   "outputs": [],
   "source": []
  },
  {
   "cell_type": "code",
   "execution_count": 364,
   "id": "b9fa75d5-5e26-4ce6-8777-c323511c339c",
   "metadata": {},
   "outputs": [],
   "source": [
    "ans_df['c_m']= ans_df.apply( lambda x: [a*0.4 + b*0.4 + c*0.1 + d*0.1 for a, b, c, d in zip(x['c_max'], x['c_max_e'],x['c_mean'],x['c_mean_e'])] ,axis=1 )\n",
    "ans_df['ans']=ans_df.apply( lambda x:  x['source'][x['c_m'].index(max(x['c_m']))] ,axis=1)"
   ]
  },
  {
   "cell_type": "code",
   "execution_count": 365,
   "id": "a26f5cc9-bd06-442e-8626-1ab66751e493",
   "metadata": {},
   "outputs": [
    {
     "data": {
      "text/plain": [
       "46"
      ]
     },
     "execution_count": 365,
     "metadata": {},
     "output_type": "execute_result"
    }
   ],
   "source": [
    "ans_df['score']=ans_df.apply(lambda x:1 if x['retrieve']==x['ans'] else 0,axis=1)\n",
    "ans_df['score'].sum()"
   ]
  },
  {
   "cell_type": "code",
   "execution_count": null,
   "id": "02823845-b086-46f4-833f-e01dc1162ca3",
   "metadata": {},
   "outputs": [],
   "source": []
  },
  {
   "cell_type": "code",
   "execution_count": 20,
   "id": "1a28bfbb-a34c-4dcd-ab51-f459943078ee",
   "metadata": {},
   "outputs": [],
   "source": [
    "# !pip install langchain"
   ]
  },
  {
   "cell_type": "code",
   "execution_count": 300,
   "id": "e322dd3a-587e-49b3-a9f0-bb9649eba5dc",
   "metadata": {},
   "outputs": [],
   "source": [
    "with open(\"finance_new_q.pkl\", \"rb\") as f:\n",
    "    finance_new_q=pickle.load(f)\n",
    "finance_new_q=finance_new_q.set_index('qid')['new_query'].to_dict()"
   ]
  },
  {
   "cell_type": "code",
   "execution_count": 301,
   "id": "969ffc96-7b61-45ca-af05-3e2133b54c70",
   "metadata": {},
   "outputs": [],
   "source": [
    "with open(\"corpus_dict_finance.pkl\", \"rb\") as f:\n",
    "    corpus_dict_finance=pickle.load(f)\n",
    "\n",
    "with open(\"corpus_dict_finance_img.pkl\", \"rb\") as f:\n",
    "    corpus_dict_finance_img=pickle.load(f)\n",
    "\n",
    "corpus_dict_finance.update(corpus_dict_finance_img)"
   ]
  },
  {
   "cell_type": "code",
   "execution_count": null,
   "id": "fc48e157-e172-4ee8-afab-bc09ff5ed446",
   "metadata": {},
   "outputs": [],
   "source": []
  },
  {
   "cell_type": "code",
   "execution_count": 409,
   "id": "3fb93e68-552a-42a3-9fe4-009a6a4fc3fb",
   "metadata": {},
   "outputs": [],
   "source": [
    "from langchain_text_splitters import RecursiveCharacterTextSplitter\n",
    "text_splitter = RecursiveCharacterTextSplitter(chunk_size=300, chunk_overlap=30)"
   ]
  },
  {
   "cell_type": "code",
   "execution_count": 484,
   "id": "a86a39ea-3bb0-4e46-9ff4-2d6ead7a0ae5",
   "metadata": {},
   "outputs": [
    {
     "name": "stdout",
     "output_type": "stream",
     "text": [
      "CPU times: user 1min 2s, sys: 11.7 s, total: 1min 14s\n",
      "Wall time: 1min 11s\n"
     ]
    }
   ],
   "source": [
    "%%time\n",
    "ans_list3=[]\n",
    "for row in finance.itertuples():\n",
    "    \n",
    "    sentences_1=[ t2s.convert(finance_new_q[row.qid]) ]\n",
    "    c_max=[]\n",
    "    for y_id in row.source:\n",
    "        texts = text_splitter.create_documents([t2s.convert(corpus_dict_finance[y_id][:8000] )])\n",
    "        sentences_2= [text.page_content for text in texts]\n",
    "\n",
    "        sentence_pairs = [[i,j] for i in sentences_1 for j in sentences_2]\n",
    "        score_list=model.compute_score(sentence_pairs, \n",
    "                          max_passage_length=600,\n",
    "                          weights_for_different_modes=[0.2, 0.5, 0.3])\n",
    "        c_max.append(max(score_list['colbert+sparse+dense']))\n",
    "\n",
    "    c_mean=[]\n",
    "    for y_id in row.source:\n",
    "        sentences_2=[t2s.convert(corpus_dict_finance[y_id][:8000])]\n",
    "        sentence_pairs = [[i,j] for i in sentences_1 for j in sentences_2]\n",
    "        \n",
    "        score_list=model.compute_score(sentence_pairs, \n",
    "                          max_passage_length=8000,\n",
    "                          weights_for_different_modes=[0.2, 0.3, 0.5])\n",
    "        c_mean.append(score_list['colbert+sparse+dense'][0])\n",
    "\n",
    "    \n",
    "    c_max_e=[]\n",
    "    c_mean_e=[]\n",
    "    sentences_1=[\"Query: \"+t2s.convert(row.query) ]\n",
    "    for y_id in row.source:    \n",
    "        texts = text_splitter.create_documents([t2s.convert(corpus_dict_finance[y_id][:8000] )])\n",
    "        sentences_2= [text.page_content for text in texts]\n",
    "        \n",
    "        embeddings_1 = encode(sentences_1)\n",
    "        embeddings_2 = encode(sentences_2)\n",
    "        similarity = embeddings_1 @ embeddings_2.T\n",
    "        emb=similarity.tolist()\n",
    "        \n",
    "        c_max_e.append(max(emb[0]))\n",
    "        c_mean_e.append(sum(emb[0])/len(emb[0]))\n",
    "    \n",
    "\n",
    "    ans_list3.append({'qid':row.qid, 'category':row.category, 'retrieve':row.retrieve,'source':row.source,'c_max':c_max, 'c_mean':c_mean,'c_max_e':c_max_e, 'c_mean_e':c_mean_e})\n",
    "    \n",
    "    # ans_list3.append({'qid':row.qid, 'category':row.category ,'source':row.source,'c_max':c_max, 'c_mean':c_mean,'c_max_e':c_max_e, 'c_mean_e':c_mean_e})\n",
    "    \n",
    "    # break"
   ]
  },
  {
   "cell_type": "code",
   "execution_count": 485,
   "id": "b3aa2f20-ca98-4a84-bd60-62beb3e1f959",
   "metadata": {},
   "outputs": [],
   "source": [
    "ans_df=pd.DataFrame(ans_list3)"
   ]
  },
  {
   "cell_type": "code",
   "execution_count": null,
   "id": "97892cff-f374-4f50-abac-a0bf8d3f3805",
   "metadata": {},
   "outputs": [],
   "source": []
  },
  {
   "cell_type": "code",
   "execution_count": 486,
   "id": "464c03e3-82cb-4cd6-b258-015bb6bf29ff",
   "metadata": {},
   "outputs": [],
   "source": [
    "ans_df['c_m']= ans_df.apply( lambda x: [a*0.4 + b*0.6 for a, b in zip(x['c_max'], x['c_mean'])] ,axis=1 )\n",
    "ans_df['ans']=ans_df.apply( lambda x:  x['source'][x['c_m'].index(max(x['c_m']))] ,axis=1)"
   ]
  },
  {
   "cell_type": "code",
   "execution_count": 487,
   "id": "ddd1c8a5-65d4-4811-8e81-088618cc74fd",
   "metadata": {},
   "outputs": [
    {
     "data": {
      "text/plain": [
       "45"
      ]
     },
     "execution_count": 487,
     "metadata": {},
     "output_type": "execute_result"
    }
   ],
   "source": [
    "ans_df['score']=ans_df.apply(lambda x:1 if x['retrieve']==x['ans'] else 0,axis=1)\n",
    "ans_df['score'].sum()"
   ]
  },
  {
   "cell_type": "code",
   "execution_count": null,
   "id": "94656756-4b25-4719-8413-b60385c1f879",
   "metadata": {},
   "outputs": [],
   "source": []
  },
  {
   "cell_type": "code",
   "execution_count": 463,
   "id": "dd1b396b-dcc1-4ca6-ace0-df53b694ec70",
   "metadata": {},
   "outputs": [],
   "source": [
    "ans_df['c_m']= ans_df.apply( lambda x: [a*1 + b*0 for a, b in zip(x['c_max_e'], x['c_mean_e'])] ,axis=1 )\n",
    "ans_df['ans']=ans_df.apply( lambda x:  x['source'][x['c_m'].index(max(x['c_m']))] ,axis=1)"
   ]
  },
  {
   "cell_type": "code",
   "execution_count": 464,
   "id": "e9f143b0-1aa0-4925-87c4-6947c1d5ef76",
   "metadata": {},
   "outputs": [
    {
     "data": {
      "text/plain": [
       "37"
      ]
     },
     "execution_count": 464,
     "metadata": {},
     "output_type": "execute_result"
    }
   ],
   "source": [
    "ans_df['score']=ans_df.apply(lambda x:1 if x['retrieve']==x['ans'] else 0,axis=1)\n",
    "ans_df['score'].sum()"
   ]
  },
  {
   "cell_type": "code",
   "execution_count": null,
   "id": "7493e93a-bd9d-4fa8-903f-c5e98ee4e3d6",
   "metadata": {},
   "outputs": [],
   "source": []
  },
  {
   "cell_type": "code",
   "execution_count": 467,
   "id": "d4511a4b-d3c3-48ae-a5c0-c949341eebd1",
   "metadata": {},
   "outputs": [],
   "source": [
    "ans_df['c_m']= ans_df.apply( lambda x: [a*0 + b*1 for a, b in zip(x['c_max'], x['c_mean'])] ,axis=1 )\n",
    "ans_df['ans']=ans_df.apply( lambda x:  x['source'][x['c_m'].index(max(x['c_m']))] ,axis=1)"
   ]
  },
  {
   "cell_type": "code",
   "execution_count": 468,
   "id": "0ee2ea26-c3d4-4ffb-812f-a95771486988",
   "metadata": {},
   "outputs": [
    {
     "data": {
      "text/plain": [
       "41"
      ]
     },
     "execution_count": 468,
     "metadata": {},
     "output_type": "execute_result"
    }
   ],
   "source": [
    "ans_df['score']=ans_df.apply(lambda x:1 if x['retrieve']==x['ans'] else 0,axis=1)\n",
    "ans_df['score'].sum()"
   ]
  },
  {
   "cell_type": "code",
   "execution_count": null,
   "id": "399dd6c6-bad5-433d-8ae8-7226a2ee6abe",
   "metadata": {},
   "outputs": [],
   "source": []
  },
  {
   "cell_type": "code",
   "execution_count": 469,
   "id": "6fa5368d-c017-43ec-be92-2cef0352bb05",
   "metadata": {},
   "outputs": [],
   "source": [
    "ans_df['c_m']= ans_df.apply( lambda x: [a*0.3 + b*0.2 + c*0.4 + d*0.1 for a, b, c, d in zip(x['c_max'], x['c_max_e'],x['c_mean'],x['c_mean_e'])] ,axis=1 )\n",
    "ans_df['ans']=ans_df.apply( lambda x:  x['source'][x['c_m'].index(max(x['c_m']))] ,axis=1)"
   ]
  },
  {
   "cell_type": "code",
   "execution_count": 470,
   "id": "d6a557a0-bc1c-4142-b06b-0f5a5caae435",
   "metadata": {},
   "outputs": [
    {
     "data": {
      "text/plain": [
       "47"
      ]
     },
     "execution_count": 470,
     "metadata": {},
     "output_type": "execute_result"
    }
   ],
   "source": [
    "ans_df['score']=ans_df.apply(lambda x:1 if x['retrieve']==x['ans'] else 0,axis=1)\n",
    "ans_df['score'].sum()"
   ]
  },
  {
   "cell_type": "code",
   "execution_count": null,
   "id": "ed83689c-6b88-40c4-bb78-840af7e1eeb5",
   "metadata": {},
   "outputs": [],
   "source": []
  },
  {
   "cell_type": "code",
   "execution_count": 471,
   "id": "6aaa94d7-41ae-48cb-b4e9-560ec6cec7aa",
   "metadata": {},
   "outputs": [],
   "source": [
    "# ans_df[['c_max', 'c_mean','c_max_e', 'c_mean_e']] = ans_df[['c_max', 'c_mean','c_max_e', 'c_mean_e']].applymap(lambda lst: [round(num, 2) for num in lst])\n",
    "# ans_df[ans_df['score']!=1]"
   ]
  },
  {
   "cell_type": "code",
   "execution_count": null,
   "id": "244a4e20-05ed-4944-8bf0-b3a3668ec7bf",
   "metadata": {},
   "outputs": [],
   "source": []
  },
  {
   "cell_type": "code",
   "execution_count": 473,
   "id": "c064c7d6-6a58-44b4-8f9d-089c36c8a99d",
   "metadata": {},
   "outputs": [],
   "source": [
    "ans1=pd.DataFrame(ans_list2)\n",
    "ans2=pd.DataFrame(ans_list3)\n",
    "ans3=pd.DataFrame(ans_list)"
   ]
  },
  {
   "cell_type": "code",
   "execution_count": 475,
   "id": "0a509b72-4d6d-4b1d-9b95-82b2c13901a6",
   "metadata": {},
   "outputs": [],
   "source": [
    "all_ans=pd.concat([ans1,ans2,ans3])"
   ]
  },
  {
   "cell_type": "code",
   "execution_count": 501,
   "id": "48b118ab-f4cc-481a-9c77-44ba1b7eb53f",
   "metadata": {},
   "outputs": [],
   "source": [
    "import numpy as np\n",
    "\n",
    "def one_model(category,x1,x2):\n",
    "    x1=np.array(x1)\n",
    "    x2=np.array(x2)\n",
    "    if category=='insurance':\n",
    "        return x1*0.7+x2*0.3\n",
    "    if category=='finance':\n",
    "        return x1*0.4+x2*0.6\n",
    "    if category=='faq':\n",
    "        return x1*0.7+x2*0.3"
   ]
  },
  {
   "cell_type": "code",
   "execution_count": 502,
   "id": "6d727b91-2689-4a75-b936-c8469bd7cd4a",
   "metadata": {},
   "outputs": [],
   "source": [
    "# (x['c_max'], x['c_max_e'],x['c_mean'],x['c_mean_e']\n",
    "def two_model(category,x1,x2,x3,x4):\n",
    "    x1=np.array(x1)\n",
    "    x2=np.array(x2)\n",
    "    x3=np.array(x3)\n",
    "    x4=np.array(x4)\n",
    "    if category=='insurance':\n",
    "        return x1*0.4+x2*0.4+x3*0.1+x4*0.1\n",
    "    if category=='finance':\n",
    "        return x1*0.3+x2*0.2+x3*0.4+x4*0.1\n",
    "    if category=='faq':\n",
    "        return x1*0.3+x2*0.2+x3*0.4+x4*0.1"
   ]
  },
  {
   "cell_type": "code",
   "execution_count": 509,
   "id": "a4eeebf7-8675-479c-b615-aa2ea094c6fa",
   "metadata": {},
   "outputs": [],
   "source": [
    "all_ans['c_m']=all_ans.apply(lambda x: one_model(x['category'],x['c_max'], x['c_mean']).tolist(),axis=1)\n",
    "all_ans['ans']=all_ans.apply( lambda x:  x['source'][x['c_m'].index(max(x['c_m']))] ,axis=1)"
   ]
  },
  {
   "cell_type": "code",
   "execution_count": 511,
   "id": "6df665e7-7af5-44b8-a7b8-aa7a18a3bf10",
   "metadata": {},
   "outputs": [
    {
     "data": {
      "text/plain": [
       "141"
      ]
     },
     "execution_count": 511,
     "metadata": {},
     "output_type": "execute_result"
    }
   ],
   "source": [
    "all_ans['score']=all_ans.apply(lambda x:1 if x['retrieve']==x['ans'] else 0,axis=1)\n",
    "all_ans['score'].sum()"
   ]
  },
  {
   "cell_type": "code",
   "execution_count": 513,
   "id": "c19fabdb-a47c-483a-ae3d-a2a668e6d386",
   "metadata": {},
   "outputs": [],
   "source": [
    "all_ans['c_m']=all_ans.apply(lambda x: two_model(x['category'],x['c_max'], x['c_max_e'],x['c_mean'],x['c_mean_e']).tolist(),axis=1)\n",
    "all_ans['ans2']=all_ans.apply( lambda x:  x['source'][x['c_m'].index(max(x['c_m']))] ,axis=1)"
   ]
  },
  {
   "cell_type": "code",
   "execution_count": 514,
   "id": "25a622f1-7545-493f-89ce-40c838cf5003",
   "metadata": {},
   "outputs": [
    {
     "data": {
      "text/plain": [
       "142"
      ]
     },
     "execution_count": 514,
     "metadata": {},
     "output_type": "execute_result"
    }
   ],
   "source": [
    "all_ans['score']=all_ans.apply(lambda x:1 if x['retrieve']==x['ans2'] else 0,axis=1)\n",
    "all_ans['score'].sum()"
   ]
  },
  {
   "cell_type": "code",
   "execution_count": 516,
   "id": "317a886f-4dcb-45ce-b500-f024ef8a9c97",
   "metadata": {},
   "outputs": [],
   "source": [
    "all_ans['retrieve']=all_ans.apply( lambda x:  x['source'][x['c_m'].index(max(x['c_m']))] ,axis=1)"
   ]
  },
  {
   "cell_type": "code",
   "execution_count": 523,
   "id": "6e4ec8cf-fb37-479f-8675-83ea71b96c9f",
   "metadata": {},
   "outputs": [],
   "source": [
    "ans_output={'answers':all_ans[['qid','retrieve']].to_dict('records')}"
   ]
  },
  {
   "cell_type": "code",
   "execution_count": 524,
   "id": "47a0e962-fd68-4c7d-a638-9ed8deb690e3",
   "metadata": {},
   "outputs": [],
   "source": [
    "with open('pred_retrieve.json', 'w', encoding='utf8') as f:\n",
    "    json.dump(ans_output, f, ensure_ascii=False, indent=4)  # 儲存檔案，確保格式和非ASCII字符"
   ]
  },
  {
   "cell_type": "code",
   "execution_count": null,
   "id": "952b6ffe-1092-4ece-8b06-1280ae55fc0d",
   "metadata": {},
   "outputs": [],
   "source": []
  }
 ],
 "metadata": {
  "kernelspec": {
   "display_name": "Python 3 (ipykernel)",
   "language": "python",
   "name": "python3"
  },
  "language_info": {
   "codemirror_mode": {
    "name": "ipython",
    "version": 3
   },
   "file_extension": ".py",
   "mimetype": "text/x-python",
   "name": "python",
   "nbconvert_exporter": "python",
   "pygments_lexer": "ipython3",
   "version": "3.12.7"
  }
 },
 "nbformat": 4,
 "nbformat_minor": 5
}
